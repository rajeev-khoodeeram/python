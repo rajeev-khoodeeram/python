{
 "cells": [
  {
   "cell_type": "code",
   "execution_count": 2,
   "id": "afa52e2e-1db2-4648-9be8-140a2a8299d3",
   "metadata": {},
   "outputs": [],
   "source": [
    "import numpy as np\n",
    "import pandas as pd"
   ]
  },
  {
   "cell_type": "code",
   "execution_count": 6,
   "id": "f2821e94-3b72-44aa-bafc-3bd4b6ade7f6",
   "metadata": {},
   "outputs": [],
   "source": [
    "abbrevs = pd.read_csv(\"state-abbrevs.csv\")\n",
    "areas = pd.read_csv(\"state-areas.csv\")\n",
    "population = pd.read_csv(\"state-population.csv\")"
   ]
  },
  {
   "cell_type": "code",
   "execution_count": 10,
   "id": "b24c0822-e6aa-4017-9cd1-3f25cee462af",
   "metadata": {},
   "outputs": [
    {
     "data": {
      "text/html": [
       "<div>\n",
       "<style scoped>\n",
       "    .dataframe tbody tr th:only-of-type {\n",
       "        vertical-align: middle;\n",
       "    }\n",
       "\n",
       "    .dataframe tbody tr th {\n",
       "        vertical-align: top;\n",
       "    }\n",
       "\n",
       "    .dataframe thead th {\n",
       "        text-align: right;\n",
       "    }\n",
       "</style>\n",
       "<table border=\"1\" class=\"dataframe\">\n",
       "  <thead>\n",
       "    <tr style=\"text-align: right;\">\n",
       "      <th></th>\n",
       "      <th>state</th>\n",
       "      <th>abbreviation</th>\n",
       "    </tr>\n",
       "  </thead>\n",
       "  <tbody>\n",
       "    <tr>\n",
       "      <th>0</th>\n",
       "      <td>Alabama</td>\n",
       "      <td>AL</td>\n",
       "    </tr>\n",
       "    <tr>\n",
       "      <th>1</th>\n",
       "      <td>Alaska</td>\n",
       "      <td>AK</td>\n",
       "    </tr>\n",
       "    <tr>\n",
       "      <th>2</th>\n",
       "      <td>Arizona</td>\n",
       "      <td>AZ</td>\n",
       "    </tr>\n",
       "    <tr>\n",
       "      <th>3</th>\n",
       "      <td>Arkansas</td>\n",
       "      <td>AR</td>\n",
       "    </tr>\n",
       "    <tr>\n",
       "      <th>4</th>\n",
       "      <td>California</td>\n",
       "      <td>CA</td>\n",
       "    </tr>\n",
       "  </tbody>\n",
       "</table>\n",
       "</div>"
      ],
      "text/plain": [
       "        state abbreviation\n",
       "0     Alabama           AL\n",
       "1      Alaska           AK\n",
       "2     Arizona           AZ\n",
       "3    Arkansas           AR\n",
       "4  California           CA"
      ]
     },
     "execution_count": 10,
     "metadata": {},
     "output_type": "execute_result"
    }
   ],
   "source": [
    "abbrevs.head()"
   ]
  },
  {
   "cell_type": "code",
   "execution_count": 13,
   "id": "3517861d-495a-4f12-9c19-f2016ad6e26c",
   "metadata": {},
   "outputs": [
    {
     "data": {
      "text/html": [
       "<div>\n",
       "<style scoped>\n",
       "    .dataframe tbody tr th:only-of-type {\n",
       "        vertical-align: middle;\n",
       "    }\n",
       "\n",
       "    .dataframe tbody tr th {\n",
       "        vertical-align: top;\n",
       "    }\n",
       "\n",
       "    .dataframe thead th {\n",
       "        text-align: right;\n",
       "    }\n",
       "</style>\n",
       "<table border=\"1\" class=\"dataframe\">\n",
       "  <thead>\n",
       "    <tr style=\"text-align: right;\">\n",
       "      <th></th>\n",
       "      <th>state/region</th>\n",
       "      <th>ages</th>\n",
       "      <th>year</th>\n",
       "      <th>population</th>\n",
       "    </tr>\n",
       "  </thead>\n",
       "  <tbody>\n",
       "    <tr>\n",
       "      <th>0</th>\n",
       "      <td>AL</td>\n",
       "      <td>under18</td>\n",
       "      <td>2012</td>\n",
       "      <td>1117489.0</td>\n",
       "    </tr>\n",
       "    <tr>\n",
       "      <th>1</th>\n",
       "      <td>AL</td>\n",
       "      <td>total</td>\n",
       "      <td>2012</td>\n",
       "      <td>4817528.0</td>\n",
       "    </tr>\n",
       "    <tr>\n",
       "      <th>2</th>\n",
       "      <td>AL</td>\n",
       "      <td>under18</td>\n",
       "      <td>2010</td>\n",
       "      <td>1130966.0</td>\n",
       "    </tr>\n",
       "    <tr>\n",
       "      <th>3</th>\n",
       "      <td>AL</td>\n",
       "      <td>total</td>\n",
       "      <td>2010</td>\n",
       "      <td>4785570.0</td>\n",
       "    </tr>\n",
       "    <tr>\n",
       "      <th>4</th>\n",
       "      <td>AL</td>\n",
       "      <td>under18</td>\n",
       "      <td>2011</td>\n",
       "      <td>1125763.0</td>\n",
       "    </tr>\n",
       "  </tbody>\n",
       "</table>\n",
       "</div>"
      ],
      "text/plain": [
       "  state/region     ages  year  population\n",
       "0           AL  under18  2012   1117489.0\n",
       "1           AL    total  2012   4817528.0\n",
       "2           AL  under18  2010   1130966.0\n",
       "3           AL    total  2010   4785570.0\n",
       "4           AL  under18  2011   1125763.0"
      ]
     },
     "execution_count": 13,
     "metadata": {},
     "output_type": "execute_result"
    }
   ],
   "source": [
    "population.head()"
   ]
  },
  {
   "cell_type": "code",
   "execution_count": 31,
   "id": "0f4e9ba7-740d-42fb-9abd-9deea58c3ade",
   "metadata": {},
   "outputs": [
    {
     "name": "stdout",
     "output_type": "stream",
     "text": [
      "     state/region     ages  year  population    state abbreviation\n",
      "0              AL  under18  2012   1117489.0  Alabama           AL\n",
      "1              AL    total  2012   4817528.0  Alabama           AL\n",
      "2              AL  under18  2010   1130966.0  Alabama           AL\n",
      "3              AL    total  2010   4785570.0  Alabama           AL\n",
      "4              AL  under18  2011   1125763.0  Alabama           AL\n",
      "...           ...      ...   ...         ...      ...          ...\n",
      "2443           WY  under18  1993    137458.0  Wyoming           WY\n",
      "2444           WY    total  1991    459260.0  Wyoming           WY\n",
      "2445           WY  under18  1991    136720.0  Wyoming           WY\n",
      "2446           WY  under18  1990    136078.0  Wyoming           WY\n",
      "2447           WY    total  1990    453690.0  Wyoming           WY\n",
      "\n",
      "[2448 rows x 6 columns]\n"
     ]
    }
   ],
   "source": [
    "merged  = pd.merge(population, abbrevs, left_on=\"state/region\", right_on=\"abbreviation\")\n",
    "print(merged)"
   ]
  },
  {
   "cell_type": "code",
   "execution_count": 33,
   "id": "0188796a-35fa-46a3-90be-f69e2f1e0968",
   "metadata": {},
   "outputs": [
    {
     "data": {
      "text/plain": [
       "state/region    False\n",
       "ages            False\n",
       "year            False\n",
       "population      False\n",
       "state           False\n",
       "abbreviation    False\n",
       "dtype: bool"
      ]
     },
     "execution_count": 33,
     "metadata": {},
     "output_type": "execute_result"
    }
   ],
   "source": [
    "# check if any column contains null data\n",
    "merged.isnull().any()"
   ]
  },
  {
   "cell_type": "code",
   "execution_count": 61,
   "id": "ebe8201f-d956-4fcc-ab74-46e47f2a09b8",
   "metadata": {},
   "outputs": [],
   "source": [
    "# Retrieving all records greater than 2010\n",
    "allYearAfter2010 = merged[merged[\"year\"] > 2010]"
   ]
  },
  {
   "cell_type": "code",
   "execution_count": 63,
   "id": "19c23ca2-cc0b-4854-a031-affbd4f2f496",
   "metadata": {},
   "outputs": [
    {
     "name": "stdout",
     "output_type": "stream",
     "text": [
      "     state/region     ages  year  population    state abbreviation\n",
      "0              AL  under18  2012   1117489.0  Alabama           AL\n",
      "1              AL    total  2012   4817528.0  Alabama           AL\n",
      "4              AL  under18  2011   1125763.0  Alabama           AL\n",
      "5              AL    total  2011   4801627.0  Alabama           AL\n",
      "8              AL  under18  2013   1111481.0  Alabama           AL\n",
      "...           ...      ...   ...         ...      ...          ...\n",
      "2401           WY  under18  2012    136526.0  Wyoming           WY\n",
      "2402           WY    total  2011    567329.0  Wyoming           WY\n",
      "2403           WY  under18  2011    135407.0  Wyoming           WY\n",
      "2408           WY    total  2013    582658.0  Wyoming           WY\n",
      "2409           WY  under18  2013    137679.0  Wyoming           WY\n",
      "\n",
      "[306 rows x 6 columns]\n"
     ]
    }
   ],
   "source": [
    "print(allYearAfter2010)"
   ]
  },
  {
   "cell_type": "code",
   "execution_count": 65,
   "id": "1b20fe2b-af28-400c-9f9c-5357a8e7edb2",
   "metadata": {},
   "outputs": [
    {
     "name": "stdout",
     "output_type": "stream",
     "text": [
      "The number of records for greater than 2010 is 306\n"
     ]
    }
   ],
   "source": [
    "print(f\"The number of records for greater than 2010 is {len(allYearAfter2010)}\")"
   ]
  },
  {
   "cell_type": "code",
   "execution_count": 87,
   "id": "86255123-b098-4825-9489-f14a9fbeec28",
   "metadata": {},
   "outputs": [],
   "source": [
    "# Retrieving all records greater than 2010 and from Alabama states only\n",
    "allYearAfter2010Ala = merged[(merged[\"year\"] > 2010) & (merged[\"state\"] == 'Alabama')]"
   ]
  },
  {
   "cell_type": "code",
   "execution_count": 89,
   "id": "7e3df33a-f23e-4384-97b2-a192726802cb",
   "metadata": {},
   "outputs": [
    {
     "name": "stdout",
     "output_type": "stream",
     "text": [
      "  state/region     ages  year  population    state abbreviation\n",
      "0           AL  under18  2012   1117489.0  Alabama           AL\n",
      "1           AL    total  2012   4817528.0  Alabama           AL\n",
      "4           AL  under18  2011   1125763.0  Alabama           AL\n",
      "5           AL    total  2011   4801627.0  Alabama           AL\n",
      "8           AL  under18  2013   1111481.0  Alabama           AL\n",
      "9           AL    total  2013   4833722.0  Alabama           AL\n"
     ]
    }
   ],
   "source": [
    "print(allYearAfter2010Ala)"
   ]
  },
  {
   "cell_type": "code",
   "execution_count": 99,
   "id": "48d0e05a-58eb-4c4c-948e-3d9db04d47b3",
   "metadata": {},
   "outputs": [],
   "source": [
    "# Retrieving all records greater than 2010 and from Alabama & Wyoming states only\n",
    "allYearAfter2010AlaAndWyo = merged[(merged[\"year\"] > 2010) & ((merged[\"state\"] == 'Alabama') | (merged[\"state\"] == 'Wyoming'))]"
   ]
  },
  {
   "cell_type": "code",
   "execution_count": 101,
   "id": "18873989-f3ed-4329-9623-ed056fdb0614",
   "metadata": {},
   "outputs": [
    {
     "name": "stdout",
     "output_type": "stream",
     "text": [
      "     state/region     ages  year  population    state abbreviation\n",
      "0              AL  under18  2012   1117489.0  Alabama           AL\n",
      "1              AL    total  2012   4817528.0  Alabama           AL\n",
      "4              AL  under18  2011   1125763.0  Alabama           AL\n",
      "5              AL    total  2011   4801627.0  Alabama           AL\n",
      "8              AL  under18  2013   1111481.0  Alabama           AL\n",
      "9              AL    total  2013   4833722.0  Alabama           AL\n",
      "2400           WY    total  2012    576626.0  Wyoming           WY\n",
      "2401           WY  under18  2012    136526.0  Wyoming           WY\n",
      "2402           WY    total  2011    567329.0  Wyoming           WY\n",
      "2403           WY  under18  2011    135407.0  Wyoming           WY\n",
      "2408           WY    total  2013    582658.0  Wyoming           WY\n",
      "2409           WY  under18  2013    137679.0  Wyoming           WY\n"
     ]
    }
   ],
   "source": [
    "print(allYearAfter2010AlaAndWyo)"
   ]
  },
  {
   "cell_type": "code",
   "execution_count": 103,
   "id": "128c7386-5a5f-4caf-aac7-9aaf6fd75c1b",
   "metadata": {},
   "outputs": [
    {
     "name": "stdout",
     "output_type": "stream",
     "text": [
      "12\n"
     ]
    }
   ],
   "source": [
    "print(len(allYearAfter2010AlaAndWyo))"
   ]
  },
  {
   "cell_type": "code",
   "execution_count": 119,
   "id": "4ddb2067-0b3a-438b-98ec-7f65ef7bfe51",
   "metadata": {},
   "outputs": [],
   "source": [
    "# Retrieving all records greater than 2010 and from Alabama & Wyoming states only with the Year, Population and state only\n",
    "records2010AlaAndWyo = merged[(merged[\"year\"] > 2010) & ((merged[\"state\"] == 'Alabama') | (merged[\"state\"] == 'Wyoming'))].iloc[:,1:4]"
   ]
  },
  {
   "cell_type": "code",
   "execution_count": 121,
   "id": "c55baf54-a74e-4476-ac92-90196329b2f8",
   "metadata": {},
   "outputs": [
    {
     "name": "stdout",
     "output_type": "stream",
     "text": [
      "         ages  year  population\n",
      "0     under18  2012   1117489.0\n",
      "1       total  2012   4817528.0\n",
      "4     under18  2011   1125763.0\n",
      "5       total  2011   4801627.0\n",
      "8     under18  2013   1111481.0\n",
      "9       total  2013   4833722.0\n",
      "2400    total  2012    576626.0\n",
      "2401  under18  2012    136526.0\n",
      "2402    total  2011    567329.0\n",
      "2403  under18  2011    135407.0\n",
      "2408    total  2013    582658.0\n",
      "2409  under18  2013    137679.0\n"
     ]
    }
   ],
   "source": [
    "print(records2010AlaAndWyo)"
   ]
  },
  {
   "cell_type": "code",
   "execution_count": 140,
   "id": "ebd36f2a-db27-40bd-9297-540149939379",
   "metadata": {},
   "outputs": [],
   "source": [
    "# Retrieving the sum of the population as from year 2010 and from Alabama & Wyoming states\n",
    "averagePopAlaWyom = merged[(merged[\"year\"] > 2010) & ((merged[\"state\"] == 'Alabama') | (merged[\"state\"] == 'Wyoming'))].iloc[:,3].mean()"
   ]
  },
  {
   "cell_type": "code",
   "execution_count": 142,
   "id": "e64f3eea-caf0-4650-927f-33c4a8c77b15",
   "metadata": {},
   "outputs": [
    {
     "name": "stdout",
     "output_type": "stream",
     "text": [
      "The average population for Alabama and Wyoming as from Year 2010 is 1661986.25\n"
     ]
    }
   ],
   "source": [
    "print(f\"The average population for Alabama and Wyoming as from Year 2010 is {averagePopAlaWyom}\")"
   ]
  },
  {
   "cell_type": "code",
   "execution_count": 158,
   "id": "6e7ceffa-a8e1-46f4-9240-af39e7d58871",
   "metadata": {},
   "outputs": [],
   "source": [
    "# We can also use query to perform search\n",
    "usingQuery = merged.query(\"year > 2010\")"
   ]
  },
  {
   "cell_type": "code",
   "execution_count": 160,
   "id": "7f4331f9-c00a-49ae-a7ac-f3f6249579cd",
   "metadata": {},
   "outputs": [
    {
     "name": "stdout",
     "output_type": "stream",
     "text": [
      "     state/region     ages  year  population    state abbreviation\n",
      "0              AL  under18  2012   1117489.0  Alabama           AL\n",
      "1              AL    total  2012   4817528.0  Alabama           AL\n",
      "4              AL  under18  2011   1125763.0  Alabama           AL\n",
      "5              AL    total  2011   4801627.0  Alabama           AL\n",
      "8              AL  under18  2013   1111481.0  Alabama           AL\n",
      "...           ...      ...   ...         ...      ...          ...\n",
      "2401           WY  under18  2012    136526.0  Wyoming           WY\n",
      "2402           WY    total  2011    567329.0  Wyoming           WY\n",
      "2403           WY  under18  2011    135407.0  Wyoming           WY\n",
      "2408           WY    total  2013    582658.0  Wyoming           WY\n",
      "2409           WY  under18  2013    137679.0  Wyoming           WY\n",
      "\n",
      "[306 rows x 6 columns]\n"
     ]
    }
   ],
   "source": [
    "print(usingQuery)"
   ]
  },
  {
   "cell_type": "code",
   "execution_count": 162,
   "id": "e58de029-ca14-4d15-b13a-22acd162340b",
   "metadata": {},
   "outputs": [
    {
     "name": "stdout",
     "output_type": "stream",
     "text": [
      "     state/region     ages  year  population    state abbreviation\n",
      "2401           WY  under18  2012    136526.0  Wyoming           WY\n",
      "2402           WY    total  2011    567329.0  Wyoming           WY\n",
      "2403           WY  under18  2011    135407.0  Wyoming           WY\n",
      "2408           WY    total  2013    582658.0  Wyoming           WY\n",
      "2409           WY  under18  2013    137679.0  Wyoming           WY\n"
     ]
    }
   ],
   "source": [
    "# We can also use query to perform search...get the last records\n",
    "usingQueryTail = merged.query(\"year > 2010\").tail()\n",
    "print(usingQueryTail)"
   ]
  },
  {
   "cell_type": "code",
   "execution_count": 164,
   "id": "a50fa866-e1cf-4144-9985-4e3386ca4bc1",
   "metadata": {},
   "outputs": [
    {
     "data": {
      "text/plain": [
       "(1035, 6)"
      ]
     },
     "execution_count": 164,
     "metadata": {},
     "output_type": "execute_result"
    }
   ],
   "source": [
    "import seaborn as sns\n",
    "planets = sns.load_dataset('planets') \n",
    "planets.shape"
   ]
  },
  {
   "cell_type": "code",
   "execution_count": 166,
   "id": "db7f4e02-798c-4920-b6a8-82b28b0270b3",
   "metadata": {},
   "outputs": [
    {
     "data": {
      "text/html": [
       "<div>\n",
       "<style scoped>\n",
       "    .dataframe tbody tr th:only-of-type {\n",
       "        vertical-align: middle;\n",
       "    }\n",
       "\n",
       "    .dataframe tbody tr th {\n",
       "        vertical-align: top;\n",
       "    }\n",
       "\n",
       "    .dataframe thead th {\n",
       "        text-align: right;\n",
       "    }\n",
       "</style>\n",
       "<table border=\"1\" class=\"dataframe\">\n",
       "  <thead>\n",
       "    <tr style=\"text-align: right;\">\n",
       "      <th></th>\n",
       "      <th>method</th>\n",
       "      <th>number</th>\n",
       "      <th>orbital_period</th>\n",
       "      <th>mass</th>\n",
       "      <th>distance</th>\n",
       "      <th>year</th>\n",
       "    </tr>\n",
       "  </thead>\n",
       "  <tbody>\n",
       "    <tr>\n",
       "      <th>0</th>\n",
       "      <td>Radial Velocity</td>\n",
       "      <td>1</td>\n",
       "      <td>269.300</td>\n",
       "      <td>7.10</td>\n",
       "      <td>77.40</td>\n",
       "      <td>2006</td>\n",
       "    </tr>\n",
       "    <tr>\n",
       "      <th>1</th>\n",
       "      <td>Radial Velocity</td>\n",
       "      <td>1</td>\n",
       "      <td>874.774</td>\n",
       "      <td>2.21</td>\n",
       "      <td>56.95</td>\n",
       "      <td>2008</td>\n",
       "    </tr>\n",
       "    <tr>\n",
       "      <th>2</th>\n",
       "      <td>Radial Velocity</td>\n",
       "      <td>1</td>\n",
       "      <td>763.000</td>\n",
       "      <td>2.60</td>\n",
       "      <td>19.84</td>\n",
       "      <td>2011</td>\n",
       "    </tr>\n",
       "    <tr>\n",
       "      <th>3</th>\n",
       "      <td>Radial Velocity</td>\n",
       "      <td>1</td>\n",
       "      <td>326.030</td>\n",
       "      <td>19.40</td>\n",
       "      <td>110.62</td>\n",
       "      <td>2007</td>\n",
       "    </tr>\n",
       "    <tr>\n",
       "      <th>4</th>\n",
       "      <td>Radial Velocity</td>\n",
       "      <td>1</td>\n",
       "      <td>516.220</td>\n",
       "      <td>10.50</td>\n",
       "      <td>119.47</td>\n",
       "      <td>2009</td>\n",
       "    </tr>\n",
       "  </tbody>\n",
       "</table>\n",
       "</div>"
      ],
      "text/plain": [
       "            method  number  orbital_period   mass  distance  year\n",
       "0  Radial Velocity       1         269.300   7.10     77.40  2006\n",
       "1  Radial Velocity       1         874.774   2.21     56.95  2008\n",
       "2  Radial Velocity       1         763.000   2.60     19.84  2011\n",
       "3  Radial Velocity       1         326.030  19.40    110.62  2007\n",
       "4  Radial Velocity       1         516.220  10.50    119.47  2009"
      ]
     },
     "execution_count": 166,
     "metadata": {},
     "output_type": "execute_result"
    }
   ],
   "source": [
    "planets.head()"
   ]
  },
  {
   "cell_type": "code",
   "execution_count": 168,
   "id": "8951301d-b90a-4484-b4d3-589d1d0ffa9a",
   "metadata": {},
   "outputs": [
    {
     "data": {
      "text/html": [
       "<div>\n",
       "<style scoped>\n",
       "    .dataframe tbody tr th:only-of-type {\n",
       "        vertical-align: middle;\n",
       "    }\n",
       "\n",
       "    .dataframe tbody tr th {\n",
       "        vertical-align: top;\n",
       "    }\n",
       "\n",
       "    .dataframe thead th {\n",
       "        text-align: right;\n",
       "    }\n",
       "</style>\n",
       "<table border=\"1\" class=\"dataframe\">\n",
       "  <thead>\n",
       "    <tr style=\"text-align: right;\">\n",
       "      <th></th>\n",
       "      <th>method</th>\n",
       "      <th>number</th>\n",
       "      <th>orbital_period</th>\n",
       "      <th>mass</th>\n",
       "      <th>distance</th>\n",
       "      <th>year</th>\n",
       "    </tr>\n",
       "  </thead>\n",
       "  <tbody>\n",
       "    <tr>\n",
       "      <th>1030</th>\n",
       "      <td>Transit</td>\n",
       "      <td>1</td>\n",
       "      <td>3.941507</td>\n",
       "      <td>NaN</td>\n",
       "      <td>172.0</td>\n",
       "      <td>2006</td>\n",
       "    </tr>\n",
       "    <tr>\n",
       "      <th>1031</th>\n",
       "      <td>Transit</td>\n",
       "      <td>1</td>\n",
       "      <td>2.615864</td>\n",
       "      <td>NaN</td>\n",
       "      <td>148.0</td>\n",
       "      <td>2007</td>\n",
       "    </tr>\n",
       "    <tr>\n",
       "      <th>1032</th>\n",
       "      <td>Transit</td>\n",
       "      <td>1</td>\n",
       "      <td>3.191524</td>\n",
       "      <td>NaN</td>\n",
       "      <td>174.0</td>\n",
       "      <td>2007</td>\n",
       "    </tr>\n",
       "    <tr>\n",
       "      <th>1033</th>\n",
       "      <td>Transit</td>\n",
       "      <td>1</td>\n",
       "      <td>4.125083</td>\n",
       "      <td>NaN</td>\n",
       "      <td>293.0</td>\n",
       "      <td>2008</td>\n",
       "    </tr>\n",
       "    <tr>\n",
       "      <th>1034</th>\n",
       "      <td>Transit</td>\n",
       "      <td>1</td>\n",
       "      <td>4.187757</td>\n",
       "      <td>NaN</td>\n",
       "      <td>260.0</td>\n",
       "      <td>2008</td>\n",
       "    </tr>\n",
       "  </tbody>\n",
       "</table>\n",
       "</div>"
      ],
      "text/plain": [
       "       method  number  orbital_period  mass  distance  year\n",
       "1030  Transit       1        3.941507   NaN     172.0  2006\n",
       "1031  Transit       1        2.615864   NaN     148.0  2007\n",
       "1032  Transit       1        3.191524   NaN     174.0  2007\n",
       "1033  Transit       1        4.125083   NaN     293.0  2008\n",
       "1034  Transit       1        4.187757   NaN     260.0  2008"
      ]
     },
     "execution_count": 168,
     "metadata": {},
     "output_type": "execute_result"
    }
   ],
   "source": [
    "planets.tail()"
   ]
  },
  {
   "cell_type": "code",
   "execution_count": null,
   "id": "9fb2ad22-ddec-40cd-9a6c-40eef10aa6a0",
   "metadata": {},
   "outputs": [],
   "source": []
  },
  {
   "cell_type": "code",
   "execution_count": 188,
   "id": "209ae899-065e-472b-8f03-2a0ab76f13c9",
   "metadata": {},
   "outputs": [
    {
     "data": {
      "text/html": [
       "<div>\n",
       "<style scoped>\n",
       "    .dataframe tbody tr th:only-of-type {\n",
       "        vertical-align: middle;\n",
       "    }\n",
       "\n",
       "    .dataframe tbody tr th {\n",
       "        vertical-align: top;\n",
       "    }\n",
       "\n",
       "    .dataframe thead th {\n",
       "        text-align: right;\n",
       "    }\n",
       "</style>\n",
       "<table border=\"1\" class=\"dataframe\">\n",
       "  <thead>\n",
       "    <tr style=\"text-align: right;\">\n",
       "      <th></th>\n",
       "      <th>method</th>\n",
       "      <th>number</th>\n",
       "      <th>orbital_period</th>\n",
       "      <th>mass</th>\n",
       "      <th>distance</th>\n",
       "      <th>year</th>\n",
       "    </tr>\n",
       "  </thead>\n",
       "  <tbody>\n",
       "    <tr>\n",
       "      <th>0</th>\n",
       "      <td>Radial Velocity</td>\n",
       "      <td>1</td>\n",
       "      <td>269.300000</td>\n",
       "      <td>7.10</td>\n",
       "      <td>77.40</td>\n",
       "      <td>2006</td>\n",
       "    </tr>\n",
       "    <tr>\n",
       "      <th>1</th>\n",
       "      <td>Radial Velocity</td>\n",
       "      <td>1</td>\n",
       "      <td>874.774000</td>\n",
       "      <td>2.21</td>\n",
       "      <td>56.95</td>\n",
       "      <td>2008</td>\n",
       "    </tr>\n",
       "    <tr>\n",
       "      <th>2</th>\n",
       "      <td>Radial Velocity</td>\n",
       "      <td>1</td>\n",
       "      <td>763.000000</td>\n",
       "      <td>2.60</td>\n",
       "      <td>19.84</td>\n",
       "      <td>2011</td>\n",
       "    </tr>\n",
       "    <tr>\n",
       "      <th>3</th>\n",
       "      <td>Radial Velocity</td>\n",
       "      <td>1</td>\n",
       "      <td>326.030000</td>\n",
       "      <td>19.40</td>\n",
       "      <td>110.62</td>\n",
       "      <td>2007</td>\n",
       "    </tr>\n",
       "    <tr>\n",
       "      <th>4</th>\n",
       "      <td>Radial Velocity</td>\n",
       "      <td>1</td>\n",
       "      <td>516.220000</td>\n",
       "      <td>10.50</td>\n",
       "      <td>119.47</td>\n",
       "      <td>2009</td>\n",
       "    </tr>\n",
       "    <tr>\n",
       "      <th>1030</th>\n",
       "      <td>Transit</td>\n",
       "      <td>1</td>\n",
       "      <td>3.941507</td>\n",
       "      <td>NaN</td>\n",
       "      <td>172.00</td>\n",
       "      <td>2006</td>\n",
       "    </tr>\n",
       "    <tr>\n",
       "      <th>1031</th>\n",
       "      <td>Transit</td>\n",
       "      <td>1</td>\n",
       "      <td>2.615864</td>\n",
       "      <td>NaN</td>\n",
       "      <td>148.00</td>\n",
       "      <td>2007</td>\n",
       "    </tr>\n",
       "    <tr>\n",
       "      <th>1032</th>\n",
       "      <td>Transit</td>\n",
       "      <td>1</td>\n",
       "      <td>3.191524</td>\n",
       "      <td>NaN</td>\n",
       "      <td>174.00</td>\n",
       "      <td>2007</td>\n",
       "    </tr>\n",
       "    <tr>\n",
       "      <th>1033</th>\n",
       "      <td>Transit</td>\n",
       "      <td>1</td>\n",
       "      <td>4.125083</td>\n",
       "      <td>NaN</td>\n",
       "      <td>293.00</td>\n",
       "      <td>2008</td>\n",
       "    </tr>\n",
       "    <tr>\n",
       "      <th>1034</th>\n",
       "      <td>Transit</td>\n",
       "      <td>1</td>\n",
       "      <td>4.187757</td>\n",
       "      <td>NaN</td>\n",
       "      <td>260.00</td>\n",
       "      <td>2008</td>\n",
       "    </tr>\n",
       "  </tbody>\n",
       "</table>\n",
       "</div>"
      ],
      "text/plain": [
       "               method  number  orbital_period   mass  distance  year\n",
       "0     Radial Velocity       1      269.300000   7.10     77.40  2006\n",
       "1     Radial Velocity       1      874.774000   2.21     56.95  2008\n",
       "2     Radial Velocity       1      763.000000   2.60     19.84  2011\n",
       "3     Radial Velocity       1      326.030000  19.40    110.62  2007\n",
       "4     Radial Velocity       1      516.220000  10.50    119.47  2009\n",
       "1030          Transit       1        3.941507    NaN    172.00  2006\n",
       "1031          Transit       1        2.615864    NaN    148.00  2007\n",
       "1032          Transit       1        3.191524    NaN    174.00  2007\n",
       "1033          Transit       1        4.125083    NaN    293.00  2008\n",
       "1034          Transit       1        4.187757    NaN    260.00  2008"
      ]
     },
     "execution_count": 188,
     "metadata": {},
     "output_type": "execute_result"
    }
   ],
   "source": [
    "# Retrieving the first set of head and tail records\n",
    "pd.concat([planets.head(), planets.tail()])"
   ]
  },
  {
   "cell_type": "code",
   "execution_count": 193,
   "id": "0ccabebe-df1f-4f2f-89a1-664f138454ba",
   "metadata": {},
   "outputs": [
    {
     "data": {
      "text/html": [
       "<div>\n",
       "<style scoped>\n",
       "    .dataframe tbody tr th:only-of-type {\n",
       "        vertical-align: middle;\n",
       "    }\n",
       "\n",
       "    .dataframe tbody tr th {\n",
       "        vertical-align: top;\n",
       "    }\n",
       "\n",
       "    .dataframe thead th {\n",
       "        text-align: right;\n",
       "    }\n",
       "</style>\n",
       "<table border=\"1\" class=\"dataframe\">\n",
       "  <thead>\n",
       "    <tr style=\"text-align: right;\">\n",
       "      <th></th>\n",
       "      <th>number</th>\n",
       "      <th>orbital_period</th>\n",
       "      <th>mass</th>\n",
       "      <th>distance</th>\n",
       "      <th>year</th>\n",
       "    </tr>\n",
       "  </thead>\n",
       "  <tbody>\n",
       "    <tr>\n",
       "      <th>count</th>\n",
       "      <td>1035.000000</td>\n",
       "      <td>992.000000</td>\n",
       "      <td>513.000000</td>\n",
       "      <td>808.000000</td>\n",
       "      <td>1035.000000</td>\n",
       "    </tr>\n",
       "    <tr>\n",
       "      <th>mean</th>\n",
       "      <td>1.785507</td>\n",
       "      <td>2002.917596</td>\n",
       "      <td>2.638161</td>\n",
       "      <td>264.069282</td>\n",
       "      <td>2009.070531</td>\n",
       "    </tr>\n",
       "    <tr>\n",
       "      <th>std</th>\n",
       "      <td>1.240976</td>\n",
       "      <td>26014.728304</td>\n",
       "      <td>3.818617</td>\n",
       "      <td>733.116493</td>\n",
       "      <td>3.972567</td>\n",
       "    </tr>\n",
       "    <tr>\n",
       "      <th>min</th>\n",
       "      <td>1.000000</td>\n",
       "      <td>0.090706</td>\n",
       "      <td>0.003600</td>\n",
       "      <td>1.350000</td>\n",
       "      <td>1989.000000</td>\n",
       "    </tr>\n",
       "    <tr>\n",
       "      <th>25%</th>\n",
       "      <td>1.000000</td>\n",
       "      <td>5.442540</td>\n",
       "      <td>0.229000</td>\n",
       "      <td>32.560000</td>\n",
       "      <td>2007.000000</td>\n",
       "    </tr>\n",
       "    <tr>\n",
       "      <th>50%</th>\n",
       "      <td>1.000000</td>\n",
       "      <td>39.979500</td>\n",
       "      <td>1.260000</td>\n",
       "      <td>55.250000</td>\n",
       "      <td>2010.000000</td>\n",
       "    </tr>\n",
       "    <tr>\n",
       "      <th>75%</th>\n",
       "      <td>2.000000</td>\n",
       "      <td>526.005000</td>\n",
       "      <td>3.040000</td>\n",
       "      <td>178.500000</td>\n",
       "      <td>2012.000000</td>\n",
       "    </tr>\n",
       "    <tr>\n",
       "      <th>max</th>\n",
       "      <td>7.000000</td>\n",
       "      <td>730000.000000</td>\n",
       "      <td>25.000000</td>\n",
       "      <td>8500.000000</td>\n",
       "      <td>2014.000000</td>\n",
       "    </tr>\n",
       "  </tbody>\n",
       "</table>\n",
       "</div>"
      ],
      "text/plain": [
       "            number  orbital_period        mass     distance         year\n",
       "count  1035.000000      992.000000  513.000000   808.000000  1035.000000\n",
       "mean      1.785507     2002.917596    2.638161   264.069282  2009.070531\n",
       "std       1.240976    26014.728304    3.818617   733.116493     3.972567\n",
       "min       1.000000        0.090706    0.003600     1.350000  1989.000000\n",
       "25%       1.000000        5.442540    0.229000    32.560000  2007.000000\n",
       "50%       1.000000       39.979500    1.260000    55.250000  2010.000000\n",
       "75%       2.000000      526.005000    3.040000   178.500000  2012.000000\n",
       "max       7.000000   730000.000000   25.000000  8500.000000  2014.000000"
      ]
     },
     "execution_count": 193,
     "metadata": {},
     "output_type": "execute_result"
    }
   ],
   "source": [
    "# Give a full description of all columns\n",
    "planets.describe()"
   ]
  },
  {
   "cell_type": "code",
   "execution_count": 205,
   "id": "89f971c6-d320-4557-be40-76fd6750c213",
   "metadata": {},
   "outputs": [
    {
     "data": {
      "text/plain": [
       "264.06928217821786"
      ]
     },
     "execution_count": 205,
     "metadata": {},
     "output_type": "execute_result"
    }
   ],
   "source": [
    "# Calculate the mean distance \n",
    "planets[\"distance\"].mean()"
   ]
  },
  {
   "cell_type": "code",
   "execution_count": 221,
   "id": "91835be2-8b06-4368-8c6b-276357384802",
   "metadata": {},
   "outputs": [
    {
     "name": "stdout",
     "output_type": "stream",
     "text": [
      "                                 number  orbital_period      mass  \\\n",
      "method                                                              \n",
      "Astrometry                     1.000000      631.180000       NaN   \n",
      "Eclipse Timing Variations      1.666667     4751.644444  5.125000   \n",
      "Imaging                        1.315789   118247.737500       NaN   \n",
      "Microlensing                   1.173913     3153.571429       NaN   \n",
      "Orbital Brightness Modulation  1.666667        0.709307       NaN   \n",
      "Pulsar Timing                  2.200000     7343.021201       NaN   \n",
      "Pulsation Timing Variations    1.000000     1170.000000       NaN   \n",
      "Radial Velocity                1.721519      823.354680  2.630699   \n",
      "Transit                        1.954660       21.102073  1.470000   \n",
      "Transit Timing Variations      2.250000       79.783500       NaN   \n",
      "\n",
      "                                  distance         year  \n",
      "method                                                   \n",
      "Astrometry                       17.875000  2011.500000  \n",
      "Eclipse Timing Variations       315.360000  2010.000000  \n",
      "Imaging                          67.715937  2009.131579  \n",
      "Microlensing                   4144.000000  2009.782609  \n",
      "Orbital Brightness Modulation  1180.000000  2011.666667  \n",
      "Pulsar Timing                  1200.000000  1998.400000  \n",
      "Pulsation Timing Variations            NaN  2007.000000  \n",
      "Radial Velocity                  51.600208  2007.518987  \n",
      "Transit                         599.298080  2011.236776  \n",
      "Transit Timing Variations      1104.333333  2012.500000  \n"
     ]
    }
   ],
   "source": [
    "print(planets.groupby(\"method\").mean())"
   ]
  },
  {
   "cell_type": "code",
   "execution_count": 227,
   "id": "1ce23ac9-1ece-4498-a3da-d012a97d9f15",
   "metadata": {},
   "outputs": [
    {
     "name": "stdout",
     "output_type": "stream",
     "text": [
      "                                   mass     distance\n",
      "method                                              \n",
      "Astrometry                          NaN    17.875000\n",
      "Eclipse Timing Variations      5.125000   315.360000\n",
      "Imaging                             NaN    67.715937\n",
      "Microlensing                        NaN  4144.000000\n",
      "Orbital Brightness Modulation       NaN  1180.000000\n",
      "Pulsar Timing                       NaN  1200.000000\n",
      "Pulsation Timing Variations         NaN          NaN\n",
      "Radial Velocity                2.630699    51.600208\n",
      "Transit                        1.470000   599.298080\n",
      "Transit Timing Variations           NaN  1104.333333\n"
     ]
    }
   ],
   "source": [
    "# Retrieving only the mass and distance columns\n",
    "print(planets.groupby(\"method\").mean().loc[:, [\"mass\",\"distance\"]])"
   ]
  },
  {
   "cell_type": "code",
   "execution_count": 237,
   "id": "14b37263-721d-4a16-8dba-04d55b59e423",
   "metadata": {},
   "outputs": [
    {
     "name": "stdout",
     "output_type": "stream",
     "text": [
      "method\n",
      "Astrometry                         17.875000\n",
      "Eclipse Timing Variations         315.360000\n",
      "Imaging                            67.715937\n",
      "Microlensing                     4144.000000\n",
      "Orbital Brightness Modulation    1180.000000\n",
      "Pulsar Timing                    1200.000000\n",
      "Pulsation Timing Variations              NaN\n",
      "Radial Velocity                    51.600208\n",
      "Transit                           599.298080\n",
      "Transit Timing Variations        1104.333333\n",
      "Name: distance, dtype: float64\n"
     ]
    }
   ],
   "source": [
    "# get the mean of distance for all methods\n",
    "print(planets.groupby(\"method\")[\"distance\"].mean())"
   ]
  },
  {
   "cell_type": "code",
   "execution_count": 241,
   "id": "f5d21000-d299-41b8-bf77-ed9ffcd2ce52",
   "metadata": {},
   "outputs": [
    {
     "name": "stdout",
     "output_type": "stream",
     "text": [
      "method\n",
      "Astrometry                        135.750000\n",
      "Eclipse Timing Variations         730.720000\n",
      "Imaging                           235.431875\n",
      "Microlensing                     8388.000000\n",
      "Orbital Brightness Modulation    2460.000000\n",
      "Pulsar Timing                    2500.000000\n",
      "Pulsation Timing Variations              NaN\n",
      "Radial Velocity                   203.200415\n",
      "Transit                          1298.596161\n",
      "Transit Timing Variations        2308.666667\n",
      "Name: distance, dtype: float64\n"
     ]
    }
   ],
   "source": [
    "# Let us say we want to apply a given function to all the distance (ex multiply by 2 and add to 100\n",
    "# then we can use lambda\n",
    "print(planets.groupby(\"method\")[\"distance\"].mean().transform(lambda x: (x*2) + 100))"
   ]
  },
  {
   "cell_type": "code",
   "execution_count": 261,
   "id": "7fb04b92-8f18-40b5-8f6a-2afb63c42a29",
   "metadata": {},
   "outputs": [
    {
     "name": "stdout",
     "output_type": "stream",
     "text": [
      "method\n",
      "Astrometry                        135.750000\n",
      "Eclipse Timing Variations         630.720000\n",
      "Imaging                           235.431875\n",
      "Microlensing                     8288.000000\n",
      "Orbital Brightness Modulation    2360.000000\n",
      "Pulsar Timing                    2400.000000\n",
      "Pulsation Timing Variations              NaN\n",
      "Radial Velocity                   203.200415\n",
      "Transit                          1198.596161\n",
      "Transit Timing Variations        2208.666667\n",
      "Name: distance, dtype: float64\n"
     ]
    }
   ],
   "source": [
    "# if the lambda function to be applied is more complex then we can simply write a function\n",
    "# for example, adding a given if \n",
    "\n",
    "def logic(x):\n",
    "    if x < 100:\n",
    "        return (x * 2) + 100\n",
    "    else:\n",
    "        return x * 2\n",
    "\n",
    "print(planets.groupby(\"method\")[\"distance\"].mean().apply(logic))"
   ]
  },
  {
   "cell_type": "code",
   "execution_count": 263,
   "id": "fe15e221-1668-4bf9-8c3f-9496fbcd2a43",
   "metadata": {},
   "outputs": [
    {
     "name": "stdout",
     "output_type": "stream",
     "text": [
      "method\n",
      "Astrometry                        135.750000\n",
      "Eclipse Timing Variations         630.720000\n",
      "Imaging                           235.431875\n",
      "Microlensing                     8288.000000\n",
      "Orbital Brightness Modulation    2360.000000\n",
      "Pulsar Timing                    2400.000000\n",
      "Pulsation Timing Variations         0.000000\n",
      "Radial Velocity                   203.200415\n",
      "Transit                          1198.596161\n",
      "Transit Timing Variations        2208.666667\n",
      "Name: distance, dtype: float64\n"
     ]
    }
   ],
   "source": [
    "# Using the previous example by filling null values by 0\n",
    "print(planets.groupby(\"method\")[\"distance\"].mean().apply(logic).fillna(0))"
   ]
  },
  {
   "cell_type": "code",
   "execution_count": 265,
   "id": "ff4b2c07-9c56-4462-b447-718f1075efb1",
   "metadata": {},
   "outputs": [
    {
     "name": "stdout",
     "output_type": "stream",
     "text": [
      "0       2000\n",
      "1       2000\n",
      "2       2010\n",
      "3       2000\n",
      "4       2000\n",
      "        ... \n",
      "1030    2000\n",
      "1031    2000\n",
      "1032    2000\n",
      "1033    2000\n",
      "1034    2000\n",
      "Name: year, Length: 1035, dtype: int64\n"
     ]
    }
   ],
   "source": [
    "decade = 10 * (planets['year'] // 10)\n",
    "print(decade)"
   ]
  },
  {
   "cell_type": "code",
   "execution_count": null,
   "id": "e9420606-bb15-47f0-85ef-8782b043384c",
   "metadata": {},
   "outputs": [],
   "source": []
  }
 ],
 "metadata": {
  "kernelspec": {
   "display_name": "Python 3 (ipykernel)",
   "language": "python",
   "name": "python3"
  },
  "language_info": {
   "codemirror_mode": {
    "name": "ipython",
    "version": 3
   },
   "file_extension": ".py",
   "mimetype": "text/x-python",
   "name": "python",
   "nbconvert_exporter": "python",
   "pygments_lexer": "ipython3",
   "version": "3.12.2"
  }
 },
 "nbformat": 4,
 "nbformat_minor": 5
}
