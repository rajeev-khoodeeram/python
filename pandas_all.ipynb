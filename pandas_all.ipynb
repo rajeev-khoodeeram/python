{
 "cells": [
  {
   "cell_type": "code",
   "execution_count": 4,
   "id": "afa52e2e-1db2-4648-9be8-140a2a8299d3",
   "metadata": {},
   "outputs": [],
   "source": [
    "import numpy as np\n",
    "import pandas as pd\n",
    "import matplotlib.pyplot as plt"
   ]
  },
  {
   "cell_type": "code",
   "execution_count": 118,
   "id": "f2821e94-3b72-44aa-bafc-3bd4b6ade7f6",
   "metadata": {},
   "outputs": [],
   "source": [
    "abbrevs = pd.read_csv(\"state-abbrevs.csv\")\n",
    "areas = pd.read_csv(\"state-areas.csv\")\n",
    "population = pd.read_csv(\"state-population.csv\")"
   ]
  },
  {
   "cell_type": "code",
   "execution_count": 124,
   "id": "032e2f75-343a-4079-bfe9-050f03a9079d",
   "metadata": {},
   "outputs": [
    {
     "name": "stdout",
     "output_type": "stream",
     "text": [
      "The current installed versiob of pandas is  2.2.2\n"
     ]
    }
   ],
   "source": [
    "print(\"The current installed versiob of pandas is \",pd.__version__)"
   ]
  },
  {
   "cell_type": "code",
   "execution_count": 126,
   "id": "9362aa84-8b28-43d4-abff-78073042716b",
   "metadata": {},
   "outputs": [],
   "source": [
    "# Pandas exist either as Series (1-D) or Dataframes (n-dimension)\n",
    "# Exemple :\n",
    "series = pd.Series([1,4,6,7])"
   ]
  },
  {
   "cell_type": "code",
   "execution_count": 190,
   "id": "30897924-8e08-4a23-bb37-9752f3724e81",
   "metadata": {},
   "outputs": [
    {
     "data": {
      "text/plain": [
       "0    1\n",
       "1    4\n",
       "2    6\n",
       "3    7\n",
       "dtype: int64"
      ]
     },
     "execution_count": 190,
     "metadata": {},
     "output_type": "execute_result"
    }
   ],
   "source": [
    "# by default the index starts with 0, and increments by 1\n",
    "series"
   ]
  },
  {
   "cell_type": "code",
   "execution_count": 188,
   "id": "1b8ddbc7-f6e2-4102-bad6-75282d682e58",
   "metadata": {},
   "outputs": [
    {
     "data": {
      "text/plain": [
       "['', 4, 6, '']"
      ]
     },
     "execution_count": 188,
     "metadata": {},
     "output_type": "execute_result"
    }
   ],
   "source": [
    "[num if (num%2 == 0) else '' for num in series]"
   ]
  },
  {
   "cell_type": "code",
   "execution_count": 192,
   "id": "5d0c3082-4e13-4630-b8dd-d044bf0a3cbe",
   "metadata": {},
   "outputs": [
    {
     "data": {
      "text/plain": [
       "a    1\n",
       "b    4\n",
       "c    6\n",
       "d    7\n",
       "dtype: int64"
      ]
     },
     "execution_count": 192,
     "metadata": {},
     "output_type": "execute_result"
    }
   ],
   "source": [
    "# Changing the default index\n",
    "series_index = pd.Series([1,4,6,7], index=['a','b','c','d'])\n",
    "series_index   "
   ]
  },
  {
   "cell_type": "code",
   "execution_count": 194,
   "id": "39ff13d7-28e5-4ca3-a70c-7a84bad0b834",
   "metadata": {},
   "outputs": [
    {
     "data": {
      "text/plain": [
       "4"
      ]
     },
     "execution_count": 194,
     "metadata": {},
     "output_type": "execute_result"
    }
   ],
   "source": [
    "series_index['b']"
   ]
  },
  {
   "cell_type": "code",
   "execution_count": 170,
   "id": "b24c0822-e6aa-4017-9cd1-3f25cee462af",
   "metadata": {},
   "outputs": [
    {
     "data": {
      "text/html": [
       "<div>\n",
       "<style scoped>\n",
       "    .dataframe tbody tr th:only-of-type {\n",
       "        vertical-align: middle;\n",
       "    }\n",
       "\n",
       "    .dataframe tbody tr th {\n",
       "        vertical-align: top;\n",
       "    }\n",
       "\n",
       "    .dataframe thead th {\n",
       "        text-align: right;\n",
       "    }\n",
       "</style>\n",
       "<table border=\"1\" class=\"dataframe\">\n",
       "  <thead>\n",
       "    <tr style=\"text-align: right;\">\n",
       "      <th></th>\n",
       "      <th>state</th>\n",
       "      <th>abbreviation</th>\n",
       "    </tr>\n",
       "  </thead>\n",
       "  <tbody>\n",
       "    <tr>\n",
       "      <th>0</th>\n",
       "      <td>Alabama</td>\n",
       "      <td>AL</td>\n",
       "    </tr>\n",
       "    <tr>\n",
       "      <th>1</th>\n",
       "      <td>Alaska</td>\n",
       "      <td>AK</td>\n",
       "    </tr>\n",
       "    <tr>\n",
       "      <th>2</th>\n",
       "      <td>Arizona</td>\n",
       "      <td>AZ</td>\n",
       "    </tr>\n",
       "    <tr>\n",
       "      <th>3</th>\n",
       "      <td>Arkansas</td>\n",
       "      <td>AR</td>\n",
       "    </tr>\n",
       "    <tr>\n",
       "      <th>4</th>\n",
       "      <td>California</td>\n",
       "      <td>CA</td>\n",
       "    </tr>\n",
       "  </tbody>\n",
       "</table>\n",
       "</div>"
      ],
      "text/plain": [
       "        state abbreviation\n",
       "0     Alabama           AL\n",
       "1      Alaska           AK\n",
       "2     Arizona           AZ\n",
       "3    Arkansas           AR\n",
       "4  California           CA"
      ]
     },
     "execution_count": 170,
     "metadata": {},
     "output_type": "execute_result"
    }
   ],
   "source": [
    "abbrevs.head()"
   ]
  },
  {
   "cell_type": "code",
   "execution_count": 13,
   "id": "3517861d-495a-4f12-9c19-f2016ad6e26c",
   "metadata": {},
   "outputs": [
    {
     "data": {
      "text/html": [
       "<div>\n",
       "<style scoped>\n",
       "    .dataframe tbody tr th:only-of-type {\n",
       "        vertical-align: middle;\n",
       "    }\n",
       "\n",
       "    .dataframe tbody tr th {\n",
       "        vertical-align: top;\n",
       "    }\n",
       "\n",
       "    .dataframe thead th {\n",
       "        text-align: right;\n",
       "    }\n",
       "</style>\n",
       "<table border=\"1\" class=\"dataframe\">\n",
       "  <thead>\n",
       "    <tr style=\"text-align: right;\">\n",
       "      <th></th>\n",
       "      <th>state/region</th>\n",
       "      <th>ages</th>\n",
       "      <th>year</th>\n",
       "      <th>population</th>\n",
       "    </tr>\n",
       "  </thead>\n",
       "  <tbody>\n",
       "    <tr>\n",
       "      <th>0</th>\n",
       "      <td>AL</td>\n",
       "      <td>under18</td>\n",
       "      <td>2012</td>\n",
       "      <td>1117489.0</td>\n",
       "    </tr>\n",
       "    <tr>\n",
       "      <th>1</th>\n",
       "      <td>AL</td>\n",
       "      <td>total</td>\n",
       "      <td>2012</td>\n",
       "      <td>4817528.0</td>\n",
       "    </tr>\n",
       "    <tr>\n",
       "      <th>2</th>\n",
       "      <td>AL</td>\n",
       "      <td>under18</td>\n",
       "      <td>2010</td>\n",
       "      <td>1130966.0</td>\n",
       "    </tr>\n",
       "    <tr>\n",
       "      <th>3</th>\n",
       "      <td>AL</td>\n",
       "      <td>total</td>\n",
       "      <td>2010</td>\n",
       "      <td>4785570.0</td>\n",
       "    </tr>\n",
       "    <tr>\n",
       "      <th>4</th>\n",
       "      <td>AL</td>\n",
       "      <td>under18</td>\n",
       "      <td>2011</td>\n",
       "      <td>1125763.0</td>\n",
       "    </tr>\n",
       "  </tbody>\n",
       "</table>\n",
       "</div>"
      ],
      "text/plain": [
       "  state/region     ages  year  population\n",
       "0           AL  under18  2012   1117489.0\n",
       "1           AL    total  2012   4817528.0\n",
       "2           AL  under18  2010   1130966.0\n",
       "3           AL    total  2010   4785570.0\n",
       "4           AL  under18  2011   1125763.0"
      ]
     },
     "execution_count": 13,
     "metadata": {},
     "output_type": "execute_result"
    }
   ],
   "source": [
    "population.head()"
   ]
  },
  {
   "cell_type": "code",
   "execution_count": 31,
   "id": "0f4e9ba7-740d-42fb-9abd-9deea58c3ade",
   "metadata": {},
   "outputs": [
    {
     "name": "stdout",
     "output_type": "stream",
     "text": [
      "     state/region     ages  year  population    state abbreviation\n",
      "0              AL  under18  2012   1117489.0  Alabama           AL\n",
      "1              AL    total  2012   4817528.0  Alabama           AL\n",
      "2              AL  under18  2010   1130966.0  Alabama           AL\n",
      "3              AL    total  2010   4785570.0  Alabama           AL\n",
      "4              AL  under18  2011   1125763.0  Alabama           AL\n",
      "...           ...      ...   ...         ...      ...          ...\n",
      "2443           WY  under18  1993    137458.0  Wyoming           WY\n",
      "2444           WY    total  1991    459260.0  Wyoming           WY\n",
      "2445           WY  under18  1991    136720.0  Wyoming           WY\n",
      "2446           WY  under18  1990    136078.0  Wyoming           WY\n",
      "2447           WY    total  1990    453690.0  Wyoming           WY\n",
      "\n",
      "[2448 rows x 6 columns]\n"
     ]
    }
   ],
   "source": [
    "merged  = pd.merge(population, abbrevs, left_on=\"state/region\", right_on=\"abbreviation\")\n",
    "print(merged)"
   ]
  },
  {
   "cell_type": "code",
   "execution_count": 33,
   "id": "0188796a-35fa-46a3-90be-f69e2f1e0968",
   "metadata": {},
   "outputs": [
    {
     "data": {
      "text/plain": [
       "state/region    False\n",
       "ages            False\n",
       "year            False\n",
       "population      False\n",
       "state           False\n",
       "abbreviation    False\n",
       "dtype: bool"
      ]
     },
     "execution_count": 33,
     "metadata": {},
     "output_type": "execute_result"
    }
   ],
   "source": [
    "# check if any column contains null data\n",
    "merged.isnull().any()"
   ]
  },
  {
   "cell_type": "code",
   "execution_count": 61,
   "id": "ebe8201f-d956-4fcc-ab74-46e47f2a09b8",
   "metadata": {},
   "outputs": [],
   "source": [
    "# Retrieving all records greater than 2010\n",
    "allYearAfter2010 = merged[merged[\"year\"] > 2010]"
   ]
  },
  {
   "cell_type": "code",
   "execution_count": 63,
   "id": "19c23ca2-cc0b-4854-a031-affbd4f2f496",
   "metadata": {},
   "outputs": [
    {
     "name": "stdout",
     "output_type": "stream",
     "text": [
      "     state/region     ages  year  population    state abbreviation\n",
      "0              AL  under18  2012   1117489.0  Alabama           AL\n",
      "1              AL    total  2012   4817528.0  Alabama           AL\n",
      "4              AL  under18  2011   1125763.0  Alabama           AL\n",
      "5              AL    total  2011   4801627.0  Alabama           AL\n",
      "8              AL  under18  2013   1111481.0  Alabama           AL\n",
      "...           ...      ...   ...         ...      ...          ...\n",
      "2401           WY  under18  2012    136526.0  Wyoming           WY\n",
      "2402           WY    total  2011    567329.0  Wyoming           WY\n",
      "2403           WY  under18  2011    135407.0  Wyoming           WY\n",
      "2408           WY    total  2013    582658.0  Wyoming           WY\n",
      "2409           WY  under18  2013    137679.0  Wyoming           WY\n",
      "\n",
      "[306 rows x 6 columns]\n"
     ]
    }
   ],
   "source": [
    "print(allYearAfter2010)"
   ]
  },
  {
   "cell_type": "code",
   "execution_count": 65,
   "id": "1b20fe2b-af28-400c-9f9c-5357a8e7edb2",
   "metadata": {},
   "outputs": [
    {
     "name": "stdout",
     "output_type": "stream",
     "text": [
      "The number of records for greater than 2010 is 306\n"
     ]
    }
   ],
   "source": [
    "print(f\"The number of records for greater than 2010 is {len(allYearAfter2010)}\")"
   ]
  },
  {
   "cell_type": "code",
   "execution_count": 87,
   "id": "86255123-b098-4825-9489-f14a9fbeec28",
   "metadata": {},
   "outputs": [],
   "source": [
    "# Retrieving all records greater than 2010 and from Alabama states only\n",
    "allYearAfter2010Ala = merged[(merged[\"year\"] > 2010) & (merged[\"state\"] == 'Alabama')]"
   ]
  },
  {
   "cell_type": "code",
   "execution_count": 89,
   "id": "7e3df33a-f23e-4384-97b2-a192726802cb",
   "metadata": {},
   "outputs": [
    {
     "name": "stdout",
     "output_type": "stream",
     "text": [
      "  state/region     ages  year  population    state abbreviation\n",
      "0           AL  under18  2012   1117489.0  Alabama           AL\n",
      "1           AL    total  2012   4817528.0  Alabama           AL\n",
      "4           AL  under18  2011   1125763.0  Alabama           AL\n",
      "5           AL    total  2011   4801627.0  Alabama           AL\n",
      "8           AL  under18  2013   1111481.0  Alabama           AL\n",
      "9           AL    total  2013   4833722.0  Alabama           AL\n"
     ]
    }
   ],
   "source": [
    "print(allYearAfter2010Ala)"
   ]
  },
  {
   "cell_type": "code",
   "execution_count": 99,
   "id": "48d0e05a-58eb-4c4c-948e-3d9db04d47b3",
   "metadata": {},
   "outputs": [],
   "source": [
    "# Retrieving all records greater than 2010 and from Alabama & Wyoming states only\n",
    "allYearAfter2010AlaAndWyo = merged[(merged[\"year\"] > 2010) & ((merged[\"state\"] == 'Alabama') | (merged[\"state\"] == 'Wyoming'))]"
   ]
  },
  {
   "cell_type": "code",
   "execution_count": 101,
   "id": "18873989-f3ed-4329-9623-ed056fdb0614",
   "metadata": {},
   "outputs": [
    {
     "name": "stdout",
     "output_type": "stream",
     "text": [
      "     state/region     ages  year  population    state abbreviation\n",
      "0              AL  under18  2012   1117489.0  Alabama           AL\n",
      "1              AL    total  2012   4817528.0  Alabama           AL\n",
      "4              AL  under18  2011   1125763.0  Alabama           AL\n",
      "5              AL    total  2011   4801627.0  Alabama           AL\n",
      "8              AL  under18  2013   1111481.0  Alabama           AL\n",
      "9              AL    total  2013   4833722.0  Alabama           AL\n",
      "2400           WY    total  2012    576626.0  Wyoming           WY\n",
      "2401           WY  under18  2012    136526.0  Wyoming           WY\n",
      "2402           WY    total  2011    567329.0  Wyoming           WY\n",
      "2403           WY  under18  2011    135407.0  Wyoming           WY\n",
      "2408           WY    total  2013    582658.0  Wyoming           WY\n",
      "2409           WY  under18  2013    137679.0  Wyoming           WY\n"
     ]
    }
   ],
   "source": [
    "print(allYearAfter2010AlaAndWyo)"
   ]
  },
  {
   "cell_type": "code",
   "execution_count": 103,
   "id": "128c7386-5a5f-4caf-aac7-9aaf6fd75c1b",
   "metadata": {},
   "outputs": [
    {
     "name": "stdout",
     "output_type": "stream",
     "text": [
      "12\n"
     ]
    }
   ],
   "source": [
    "print(len(allYearAfter2010AlaAndWyo))"
   ]
  },
  {
   "cell_type": "code",
   "execution_count": 119,
   "id": "4ddb2067-0b3a-438b-98ec-7f65ef7bfe51",
   "metadata": {},
   "outputs": [],
   "source": [
    "# Retrieving all records greater than 2010 and from Alabama & Wyoming states only with the Year, Population and state only\n",
    "records2010AlaAndWyo = merged[(merged[\"year\"] > 2010) & ((merged[\"state\"] == 'Alabama') | (merged[\"state\"] == 'Wyoming'))].iloc[:,1:4]"
   ]
  },
  {
   "cell_type": "code",
   "execution_count": 121,
   "id": "c55baf54-a74e-4476-ac92-90196329b2f8",
   "metadata": {},
   "outputs": [
    {
     "name": "stdout",
     "output_type": "stream",
     "text": [
      "         ages  year  population\n",
      "0     under18  2012   1117489.0\n",
      "1       total  2012   4817528.0\n",
      "4     under18  2011   1125763.0\n",
      "5       total  2011   4801627.0\n",
      "8     under18  2013   1111481.0\n",
      "9       total  2013   4833722.0\n",
      "2400    total  2012    576626.0\n",
      "2401  under18  2012    136526.0\n",
      "2402    total  2011    567329.0\n",
      "2403  under18  2011    135407.0\n",
      "2408    total  2013    582658.0\n",
      "2409  under18  2013    137679.0\n"
     ]
    }
   ],
   "source": [
    "print(records2010AlaAndWyo)"
   ]
  },
  {
   "cell_type": "code",
   "execution_count": 140,
   "id": "ebd36f2a-db27-40bd-9297-540149939379",
   "metadata": {},
   "outputs": [],
   "source": [
    "# Retrieving the sum of the population as from year 2010 and from Alabama & Wyoming states\n",
    "averagePopAlaWyom = merged[(merged[\"year\"] > 2010) & ((merged[\"state\"] == 'Alabama') | (merged[\"state\"] == 'Wyoming'))].iloc[:,3].mean()"
   ]
  },
  {
   "cell_type": "code",
   "execution_count": 142,
   "id": "e64f3eea-caf0-4650-927f-33c4a8c77b15",
   "metadata": {},
   "outputs": [
    {
     "name": "stdout",
     "output_type": "stream",
     "text": [
      "The average population for Alabama and Wyoming as from Year 2010 is 1661986.25\n"
     ]
    }
   ],
   "source": [
    "print(f\"The average population for Alabama and Wyoming as from Year 2010 is {averagePopAlaWyom}\")"
   ]
  },
  {
   "cell_type": "code",
   "execution_count": 158,
   "id": "6e7ceffa-a8e1-46f4-9240-af39e7d58871",
   "metadata": {},
   "outputs": [],
   "source": [
    "# We can also use query to perform search\n",
    "usingQuery = merged.query(\"year > 2010\")"
   ]
  },
  {
   "cell_type": "code",
   "execution_count": 160,
   "id": "7f4331f9-c00a-49ae-a7ac-f3f6249579cd",
   "metadata": {},
   "outputs": [
    {
     "name": "stdout",
     "output_type": "stream",
     "text": [
      "     state/region     ages  year  population    state abbreviation\n",
      "0              AL  under18  2012   1117489.0  Alabama           AL\n",
      "1              AL    total  2012   4817528.0  Alabama           AL\n",
      "4              AL  under18  2011   1125763.0  Alabama           AL\n",
      "5              AL    total  2011   4801627.0  Alabama           AL\n",
      "8              AL  under18  2013   1111481.0  Alabama           AL\n",
      "...           ...      ...   ...         ...      ...          ...\n",
      "2401           WY  under18  2012    136526.0  Wyoming           WY\n",
      "2402           WY    total  2011    567329.0  Wyoming           WY\n",
      "2403           WY  under18  2011    135407.0  Wyoming           WY\n",
      "2408           WY    total  2013    582658.0  Wyoming           WY\n",
      "2409           WY  under18  2013    137679.0  Wyoming           WY\n",
      "\n",
      "[306 rows x 6 columns]\n"
     ]
    }
   ],
   "source": [
    "print(usingQuery)"
   ]
  },
  {
   "cell_type": "code",
   "execution_count": 162,
   "id": "e58de029-ca14-4d15-b13a-22acd162340b",
   "metadata": {},
   "outputs": [
    {
     "name": "stdout",
     "output_type": "stream",
     "text": [
      "     state/region     ages  year  population    state abbreviation\n",
      "2401           WY  under18  2012    136526.0  Wyoming           WY\n",
      "2402           WY    total  2011    567329.0  Wyoming           WY\n",
      "2403           WY  under18  2011    135407.0  Wyoming           WY\n",
      "2408           WY    total  2013    582658.0  Wyoming           WY\n",
      "2409           WY  under18  2013    137679.0  Wyoming           WY\n"
     ]
    }
   ],
   "source": [
    "# We can also use query to perform search...get the last records\n",
    "usingQueryTail = merged.query(\"year > 2010\").tail()\n",
    "print(usingQueryTail)"
   ]
  },
  {
   "cell_type": "code",
   "execution_count": 5,
   "id": "a50fa866-e1cf-4144-9985-4e3386ca4bc1",
   "metadata": {},
   "outputs": [
    {
     "data": {
      "text/plain": [
       "(1035, 6)"
      ]
     },
     "execution_count": 5,
     "metadata": {},
     "output_type": "execute_result"
    }
   ],
   "source": [
    "import seaborn as sns\n",
    "planets = sns.load_dataset('planets') \n",
    "planets.shape"
   ]
  },
  {
   "cell_type": "code",
   "execution_count": 7,
   "id": "db7f4e02-798c-4920-b6a8-82b28b0270b3",
   "metadata": {},
   "outputs": [
    {
     "data": {
      "text/html": [
       "<div>\n",
       "<style scoped>\n",
       "    .dataframe tbody tr th:only-of-type {\n",
       "        vertical-align: middle;\n",
       "    }\n",
       "\n",
       "    .dataframe tbody tr th {\n",
       "        vertical-align: top;\n",
       "    }\n",
       "\n",
       "    .dataframe thead th {\n",
       "        text-align: right;\n",
       "    }\n",
       "</style>\n",
       "<table border=\"1\" class=\"dataframe\">\n",
       "  <thead>\n",
       "    <tr style=\"text-align: right;\">\n",
       "      <th></th>\n",
       "      <th>method</th>\n",
       "      <th>number</th>\n",
       "      <th>orbital_period</th>\n",
       "      <th>mass</th>\n",
       "      <th>distance</th>\n",
       "      <th>year</th>\n",
       "    </tr>\n",
       "  </thead>\n",
       "  <tbody>\n",
       "    <tr>\n",
       "      <th>0</th>\n",
       "      <td>Radial Velocity</td>\n",
       "      <td>1</td>\n",
       "      <td>269.300</td>\n",
       "      <td>7.10</td>\n",
       "      <td>77.40</td>\n",
       "      <td>2006</td>\n",
       "    </tr>\n",
       "    <tr>\n",
       "      <th>1</th>\n",
       "      <td>Radial Velocity</td>\n",
       "      <td>1</td>\n",
       "      <td>874.774</td>\n",
       "      <td>2.21</td>\n",
       "      <td>56.95</td>\n",
       "      <td>2008</td>\n",
       "    </tr>\n",
       "    <tr>\n",
       "      <th>2</th>\n",
       "      <td>Radial Velocity</td>\n",
       "      <td>1</td>\n",
       "      <td>763.000</td>\n",
       "      <td>2.60</td>\n",
       "      <td>19.84</td>\n",
       "      <td>2011</td>\n",
       "    </tr>\n",
       "    <tr>\n",
       "      <th>3</th>\n",
       "      <td>Radial Velocity</td>\n",
       "      <td>1</td>\n",
       "      <td>326.030</td>\n",
       "      <td>19.40</td>\n",
       "      <td>110.62</td>\n",
       "      <td>2007</td>\n",
       "    </tr>\n",
       "    <tr>\n",
       "      <th>4</th>\n",
       "      <td>Radial Velocity</td>\n",
       "      <td>1</td>\n",
       "      <td>516.220</td>\n",
       "      <td>10.50</td>\n",
       "      <td>119.47</td>\n",
       "      <td>2009</td>\n",
       "    </tr>\n",
       "  </tbody>\n",
       "</table>\n",
       "</div>"
      ],
      "text/plain": [
       "            method  number  orbital_period   mass  distance  year\n",
       "0  Radial Velocity       1         269.300   7.10     77.40  2006\n",
       "1  Radial Velocity       1         874.774   2.21     56.95  2008\n",
       "2  Radial Velocity       1         763.000   2.60     19.84  2011\n",
       "3  Radial Velocity       1         326.030  19.40    110.62  2007\n",
       "4  Radial Velocity       1         516.220  10.50    119.47  2009"
      ]
     },
     "execution_count": 7,
     "metadata": {},
     "output_type": "execute_result"
    }
   ],
   "source": [
    "planets.head()"
   ]
  },
  {
   "cell_type": "code",
   "execution_count": 9,
   "id": "8951301d-b90a-4484-b4d3-589d1d0ffa9a",
   "metadata": {},
   "outputs": [
    {
     "data": {
      "text/html": [
       "<div>\n",
       "<style scoped>\n",
       "    .dataframe tbody tr th:only-of-type {\n",
       "        vertical-align: middle;\n",
       "    }\n",
       "\n",
       "    .dataframe tbody tr th {\n",
       "        vertical-align: top;\n",
       "    }\n",
       "\n",
       "    .dataframe thead th {\n",
       "        text-align: right;\n",
       "    }\n",
       "</style>\n",
       "<table border=\"1\" class=\"dataframe\">\n",
       "  <thead>\n",
       "    <tr style=\"text-align: right;\">\n",
       "      <th></th>\n",
       "      <th>method</th>\n",
       "      <th>number</th>\n",
       "      <th>orbital_period</th>\n",
       "      <th>mass</th>\n",
       "      <th>distance</th>\n",
       "      <th>year</th>\n",
       "    </tr>\n",
       "  </thead>\n",
       "  <tbody>\n",
       "    <tr>\n",
       "      <th>1030</th>\n",
       "      <td>Transit</td>\n",
       "      <td>1</td>\n",
       "      <td>3.941507</td>\n",
       "      <td>NaN</td>\n",
       "      <td>172.0</td>\n",
       "      <td>2006</td>\n",
       "    </tr>\n",
       "    <tr>\n",
       "      <th>1031</th>\n",
       "      <td>Transit</td>\n",
       "      <td>1</td>\n",
       "      <td>2.615864</td>\n",
       "      <td>NaN</td>\n",
       "      <td>148.0</td>\n",
       "      <td>2007</td>\n",
       "    </tr>\n",
       "    <tr>\n",
       "      <th>1032</th>\n",
       "      <td>Transit</td>\n",
       "      <td>1</td>\n",
       "      <td>3.191524</td>\n",
       "      <td>NaN</td>\n",
       "      <td>174.0</td>\n",
       "      <td>2007</td>\n",
       "    </tr>\n",
       "    <tr>\n",
       "      <th>1033</th>\n",
       "      <td>Transit</td>\n",
       "      <td>1</td>\n",
       "      <td>4.125083</td>\n",
       "      <td>NaN</td>\n",
       "      <td>293.0</td>\n",
       "      <td>2008</td>\n",
       "    </tr>\n",
       "    <tr>\n",
       "      <th>1034</th>\n",
       "      <td>Transit</td>\n",
       "      <td>1</td>\n",
       "      <td>4.187757</td>\n",
       "      <td>NaN</td>\n",
       "      <td>260.0</td>\n",
       "      <td>2008</td>\n",
       "    </tr>\n",
       "  </tbody>\n",
       "</table>\n",
       "</div>"
      ],
      "text/plain": [
       "       method  number  orbital_period  mass  distance  year\n",
       "1030  Transit       1        3.941507   NaN     172.0  2006\n",
       "1031  Transit       1        2.615864   NaN     148.0  2007\n",
       "1032  Transit       1        3.191524   NaN     174.0  2007\n",
       "1033  Transit       1        4.125083   NaN     293.0  2008\n",
       "1034  Transit       1        4.187757   NaN     260.0  2008"
      ]
     },
     "execution_count": 9,
     "metadata": {},
     "output_type": "execute_result"
    }
   ],
   "source": [
    "planets.tail()"
   ]
  },
  {
   "cell_type": "code",
   "execution_count": null,
   "id": "9fb2ad22-ddec-40cd-9a6c-40eef10aa6a0",
   "metadata": {},
   "outputs": [],
   "source": []
  },
  {
   "cell_type": "code",
   "execution_count": 12,
   "id": "209ae899-065e-472b-8f03-2a0ab76f13c9",
   "metadata": {},
   "outputs": [
    {
     "data": {
      "text/html": [
       "<div>\n",
       "<style scoped>\n",
       "    .dataframe tbody tr th:only-of-type {\n",
       "        vertical-align: middle;\n",
       "    }\n",
       "\n",
       "    .dataframe tbody tr th {\n",
       "        vertical-align: top;\n",
       "    }\n",
       "\n",
       "    .dataframe thead th {\n",
       "        text-align: right;\n",
       "    }\n",
       "</style>\n",
       "<table border=\"1\" class=\"dataframe\">\n",
       "  <thead>\n",
       "    <tr style=\"text-align: right;\">\n",
       "      <th></th>\n",
       "      <th>method</th>\n",
       "      <th>number</th>\n",
       "      <th>orbital_period</th>\n",
       "      <th>mass</th>\n",
       "      <th>distance</th>\n",
       "      <th>year</th>\n",
       "    </tr>\n",
       "  </thead>\n",
       "  <tbody>\n",
       "    <tr>\n",
       "      <th>0</th>\n",
       "      <td>Radial Velocity</td>\n",
       "      <td>1</td>\n",
       "      <td>269.300000</td>\n",
       "      <td>7.10</td>\n",
       "      <td>77.40</td>\n",
       "      <td>2006</td>\n",
       "    </tr>\n",
       "    <tr>\n",
       "      <th>1</th>\n",
       "      <td>Radial Velocity</td>\n",
       "      <td>1</td>\n",
       "      <td>874.774000</td>\n",
       "      <td>2.21</td>\n",
       "      <td>56.95</td>\n",
       "      <td>2008</td>\n",
       "    </tr>\n",
       "    <tr>\n",
       "      <th>2</th>\n",
       "      <td>Radial Velocity</td>\n",
       "      <td>1</td>\n",
       "      <td>763.000000</td>\n",
       "      <td>2.60</td>\n",
       "      <td>19.84</td>\n",
       "      <td>2011</td>\n",
       "    </tr>\n",
       "    <tr>\n",
       "      <th>3</th>\n",
       "      <td>Radial Velocity</td>\n",
       "      <td>1</td>\n",
       "      <td>326.030000</td>\n",
       "      <td>19.40</td>\n",
       "      <td>110.62</td>\n",
       "      <td>2007</td>\n",
       "    </tr>\n",
       "    <tr>\n",
       "      <th>4</th>\n",
       "      <td>Radial Velocity</td>\n",
       "      <td>1</td>\n",
       "      <td>516.220000</td>\n",
       "      <td>10.50</td>\n",
       "      <td>119.47</td>\n",
       "      <td>2009</td>\n",
       "    </tr>\n",
       "    <tr>\n",
       "      <th>1030</th>\n",
       "      <td>Transit</td>\n",
       "      <td>1</td>\n",
       "      <td>3.941507</td>\n",
       "      <td>NaN</td>\n",
       "      <td>172.00</td>\n",
       "      <td>2006</td>\n",
       "    </tr>\n",
       "    <tr>\n",
       "      <th>1031</th>\n",
       "      <td>Transit</td>\n",
       "      <td>1</td>\n",
       "      <td>2.615864</td>\n",
       "      <td>NaN</td>\n",
       "      <td>148.00</td>\n",
       "      <td>2007</td>\n",
       "    </tr>\n",
       "    <tr>\n",
       "      <th>1032</th>\n",
       "      <td>Transit</td>\n",
       "      <td>1</td>\n",
       "      <td>3.191524</td>\n",
       "      <td>NaN</td>\n",
       "      <td>174.00</td>\n",
       "      <td>2007</td>\n",
       "    </tr>\n",
       "    <tr>\n",
       "      <th>1033</th>\n",
       "      <td>Transit</td>\n",
       "      <td>1</td>\n",
       "      <td>4.125083</td>\n",
       "      <td>NaN</td>\n",
       "      <td>293.00</td>\n",
       "      <td>2008</td>\n",
       "    </tr>\n",
       "    <tr>\n",
       "      <th>1034</th>\n",
       "      <td>Transit</td>\n",
       "      <td>1</td>\n",
       "      <td>4.187757</td>\n",
       "      <td>NaN</td>\n",
       "      <td>260.00</td>\n",
       "      <td>2008</td>\n",
       "    </tr>\n",
       "  </tbody>\n",
       "</table>\n",
       "</div>"
      ],
      "text/plain": [
       "               method  number  orbital_period   mass  distance  year\n",
       "0     Radial Velocity       1      269.300000   7.10     77.40  2006\n",
       "1     Radial Velocity       1      874.774000   2.21     56.95  2008\n",
       "2     Radial Velocity       1      763.000000   2.60     19.84  2011\n",
       "3     Radial Velocity       1      326.030000  19.40    110.62  2007\n",
       "4     Radial Velocity       1      516.220000  10.50    119.47  2009\n",
       "1030          Transit       1        3.941507    NaN    172.00  2006\n",
       "1031          Transit       1        2.615864    NaN    148.00  2007\n",
       "1032          Transit       1        3.191524    NaN    174.00  2007\n",
       "1033          Transit       1        4.125083    NaN    293.00  2008\n",
       "1034          Transit       1        4.187757    NaN    260.00  2008"
      ]
     },
     "execution_count": 12,
     "metadata": {},
     "output_type": "execute_result"
    }
   ],
   "source": [
    "# Retrieving the first set of head and tail records\n",
    "pd.concat([planets.head(), planets.tail()])"
   ]
  },
  {
   "cell_type": "code",
   "execution_count": 14,
   "id": "0ccabebe-df1f-4f2f-89a1-664f138454ba",
   "metadata": {},
   "outputs": [
    {
     "data": {
      "text/html": [
       "<div>\n",
       "<style scoped>\n",
       "    .dataframe tbody tr th:only-of-type {\n",
       "        vertical-align: middle;\n",
       "    }\n",
       "\n",
       "    .dataframe tbody tr th {\n",
       "        vertical-align: top;\n",
       "    }\n",
       "\n",
       "    .dataframe thead th {\n",
       "        text-align: right;\n",
       "    }\n",
       "</style>\n",
       "<table border=\"1\" class=\"dataframe\">\n",
       "  <thead>\n",
       "    <tr style=\"text-align: right;\">\n",
       "      <th></th>\n",
       "      <th>number</th>\n",
       "      <th>orbital_period</th>\n",
       "      <th>mass</th>\n",
       "      <th>distance</th>\n",
       "      <th>year</th>\n",
       "    </tr>\n",
       "  </thead>\n",
       "  <tbody>\n",
       "    <tr>\n",
       "      <th>count</th>\n",
       "      <td>1035.000000</td>\n",
       "      <td>992.000000</td>\n",
       "      <td>513.000000</td>\n",
       "      <td>808.000000</td>\n",
       "      <td>1035.000000</td>\n",
       "    </tr>\n",
       "    <tr>\n",
       "      <th>mean</th>\n",
       "      <td>1.785507</td>\n",
       "      <td>2002.917596</td>\n",
       "      <td>2.638161</td>\n",
       "      <td>264.069282</td>\n",
       "      <td>2009.070531</td>\n",
       "    </tr>\n",
       "    <tr>\n",
       "      <th>std</th>\n",
       "      <td>1.240976</td>\n",
       "      <td>26014.728304</td>\n",
       "      <td>3.818617</td>\n",
       "      <td>733.116493</td>\n",
       "      <td>3.972567</td>\n",
       "    </tr>\n",
       "    <tr>\n",
       "      <th>min</th>\n",
       "      <td>1.000000</td>\n",
       "      <td>0.090706</td>\n",
       "      <td>0.003600</td>\n",
       "      <td>1.350000</td>\n",
       "      <td>1989.000000</td>\n",
       "    </tr>\n",
       "    <tr>\n",
       "      <th>25%</th>\n",
       "      <td>1.000000</td>\n",
       "      <td>5.442540</td>\n",
       "      <td>0.229000</td>\n",
       "      <td>32.560000</td>\n",
       "      <td>2007.000000</td>\n",
       "    </tr>\n",
       "    <tr>\n",
       "      <th>50%</th>\n",
       "      <td>1.000000</td>\n",
       "      <td>39.979500</td>\n",
       "      <td>1.260000</td>\n",
       "      <td>55.250000</td>\n",
       "      <td>2010.000000</td>\n",
       "    </tr>\n",
       "    <tr>\n",
       "      <th>75%</th>\n",
       "      <td>2.000000</td>\n",
       "      <td>526.005000</td>\n",
       "      <td>3.040000</td>\n",
       "      <td>178.500000</td>\n",
       "      <td>2012.000000</td>\n",
       "    </tr>\n",
       "    <tr>\n",
       "      <th>max</th>\n",
       "      <td>7.000000</td>\n",
       "      <td>730000.000000</td>\n",
       "      <td>25.000000</td>\n",
       "      <td>8500.000000</td>\n",
       "      <td>2014.000000</td>\n",
       "    </tr>\n",
       "  </tbody>\n",
       "</table>\n",
       "</div>"
      ],
      "text/plain": [
       "            number  orbital_period        mass     distance         year\n",
       "count  1035.000000      992.000000  513.000000   808.000000  1035.000000\n",
       "mean      1.785507     2002.917596    2.638161   264.069282  2009.070531\n",
       "std       1.240976    26014.728304    3.818617   733.116493     3.972567\n",
       "min       1.000000        0.090706    0.003600     1.350000  1989.000000\n",
       "25%       1.000000        5.442540    0.229000    32.560000  2007.000000\n",
       "50%       1.000000       39.979500    1.260000    55.250000  2010.000000\n",
       "75%       2.000000      526.005000    3.040000   178.500000  2012.000000\n",
       "max       7.000000   730000.000000   25.000000  8500.000000  2014.000000"
      ]
     },
     "execution_count": 14,
     "metadata": {},
     "output_type": "execute_result"
    }
   ],
   "source": [
    "# Give a full description of all columns\n",
    "planets.describe()"
   ]
  },
  {
   "cell_type": "code",
   "execution_count": 16,
   "id": "89f971c6-d320-4557-be40-76fd6750c213",
   "metadata": {},
   "outputs": [
    {
     "data": {
      "text/plain": [
       "264.06928217821786"
      ]
     },
     "execution_count": 16,
     "metadata": {},
     "output_type": "execute_result"
    }
   ],
   "source": [
    "# Calculate the mean distance \n",
    "planets[\"distance\"].mean()"
   ]
  },
  {
   "cell_type": "code",
   "execution_count": 18,
   "id": "91835be2-8b06-4368-8c6b-276357384802",
   "metadata": {},
   "outputs": [
    {
     "name": "stdout",
     "output_type": "stream",
     "text": [
      "                                 number  orbital_period      mass  \\\n",
      "method                                                              \n",
      "Astrometry                     1.000000      631.180000       NaN   \n",
      "Eclipse Timing Variations      1.666667     4751.644444  5.125000   \n",
      "Imaging                        1.315789   118247.737500       NaN   \n",
      "Microlensing                   1.173913     3153.571429       NaN   \n",
      "Orbital Brightness Modulation  1.666667        0.709307       NaN   \n",
      "Pulsar Timing                  2.200000     7343.021201       NaN   \n",
      "Pulsation Timing Variations    1.000000     1170.000000       NaN   \n",
      "Radial Velocity                1.721519      823.354680  2.630699   \n",
      "Transit                        1.954660       21.102073  1.470000   \n",
      "Transit Timing Variations      2.250000       79.783500       NaN   \n",
      "\n",
      "                                  distance         year  \n",
      "method                                                   \n",
      "Astrometry                       17.875000  2011.500000  \n",
      "Eclipse Timing Variations       315.360000  2010.000000  \n",
      "Imaging                          67.715937  2009.131579  \n",
      "Microlensing                   4144.000000  2009.782609  \n",
      "Orbital Brightness Modulation  1180.000000  2011.666667  \n",
      "Pulsar Timing                  1200.000000  1998.400000  \n",
      "Pulsation Timing Variations            NaN  2007.000000  \n",
      "Radial Velocity                  51.600208  2007.518987  \n",
      "Transit                         599.298080  2011.236776  \n",
      "Transit Timing Variations      1104.333333  2012.500000  \n"
     ]
    }
   ],
   "source": [
    "print(planets.groupby(\"method\").mean())"
   ]
  },
  {
   "cell_type": "code",
   "execution_count": 20,
   "id": "1ce23ac9-1ece-4498-a3da-d012a97d9f15",
   "metadata": {},
   "outputs": [
    {
     "name": "stdout",
     "output_type": "stream",
     "text": [
      "                                   mass     distance\n",
      "method                                              \n",
      "Astrometry                          NaN    17.875000\n",
      "Eclipse Timing Variations      5.125000   315.360000\n",
      "Imaging                             NaN    67.715937\n",
      "Microlensing                        NaN  4144.000000\n",
      "Orbital Brightness Modulation       NaN  1180.000000\n",
      "Pulsar Timing                       NaN  1200.000000\n",
      "Pulsation Timing Variations         NaN          NaN\n",
      "Radial Velocity                2.630699    51.600208\n",
      "Transit                        1.470000   599.298080\n",
      "Transit Timing Variations           NaN  1104.333333\n"
     ]
    }
   ],
   "source": [
    "# Retrieving only the mass and distance columns\n",
    "print(planets.groupby(\"method\").mean().loc[:, [\"mass\",\"distance\"]])"
   ]
  },
  {
   "cell_type": "code",
   "execution_count": 22,
   "id": "14b37263-721d-4a16-8dba-04d55b59e423",
   "metadata": {},
   "outputs": [
    {
     "name": "stdout",
     "output_type": "stream",
     "text": [
      "method\n",
      "Astrometry                         17.875000\n",
      "Eclipse Timing Variations         315.360000\n",
      "Imaging                            67.715937\n",
      "Microlensing                     4144.000000\n",
      "Orbital Brightness Modulation    1180.000000\n",
      "Pulsar Timing                    1200.000000\n",
      "Pulsation Timing Variations              NaN\n",
      "Radial Velocity                    51.600208\n",
      "Transit                           599.298080\n",
      "Transit Timing Variations        1104.333333\n",
      "Name: distance, dtype: float64\n"
     ]
    }
   ],
   "source": [
    "# get the mean of distance for all methods\n",
    "print(planets.groupby(\"method\")[\"distance\"].mean())"
   ]
  },
  {
   "cell_type": "code",
   "execution_count": 24,
   "id": "f5d21000-d299-41b8-bf77-ed9ffcd2ce52",
   "metadata": {},
   "outputs": [
    {
     "name": "stdout",
     "output_type": "stream",
     "text": [
      "method\n",
      "Astrometry                        135.750000\n",
      "Eclipse Timing Variations         730.720000\n",
      "Imaging                           235.431875\n",
      "Microlensing                     8388.000000\n",
      "Orbital Brightness Modulation    2460.000000\n",
      "Pulsar Timing                    2500.000000\n",
      "Pulsation Timing Variations              NaN\n",
      "Radial Velocity                   203.200415\n",
      "Transit                          1298.596161\n",
      "Transit Timing Variations        2308.666667\n",
      "Name: distance, dtype: float64\n"
     ]
    }
   ],
   "source": [
    "# Let us say we want to apply a given function to all the distance (ex multiply by 2 and add to 100\n",
    "# then we can use lambda\n",
    "print(planets.groupby(\"method\")[\"distance\"].mean().transform(lambda x: (x*2) + 100))"
   ]
  },
  {
   "cell_type": "code",
   "execution_count": 26,
   "id": "7fb04b92-8f18-40b5-8f6a-2afb63c42a29",
   "metadata": {},
   "outputs": [
    {
     "name": "stdout",
     "output_type": "stream",
     "text": [
      "method\n",
      "Astrometry                        135.750000\n",
      "Eclipse Timing Variations         630.720000\n",
      "Imaging                           235.431875\n",
      "Microlensing                     8288.000000\n",
      "Orbital Brightness Modulation    2360.000000\n",
      "Pulsar Timing                    2400.000000\n",
      "Pulsation Timing Variations              NaN\n",
      "Radial Velocity                   203.200415\n",
      "Transit                          1198.596161\n",
      "Transit Timing Variations        2208.666667\n",
      "Name: distance, dtype: float64\n"
     ]
    }
   ],
   "source": [
    "# if the lambda function to be applied is more complex then we can simply write a function\n",
    "# for example, adding a given if \n",
    "\n",
    "def logic(x):\n",
    "    if x < 100:\n",
    "        return (x * 2) + 100\n",
    "    else:\n",
    "        return x * 2\n",
    "\n",
    "print(planets.groupby(\"method\")[\"distance\"].mean().apply(logic))"
   ]
  },
  {
   "cell_type": "code",
   "execution_count": 28,
   "id": "fe15e221-1668-4bf9-8c3f-9496fbcd2a43",
   "metadata": {},
   "outputs": [
    {
     "name": "stdout",
     "output_type": "stream",
     "text": [
      "method\n",
      "Astrometry                        135.750000\n",
      "Eclipse Timing Variations         630.720000\n",
      "Imaging                           235.431875\n",
      "Microlensing                     8288.000000\n",
      "Orbital Brightness Modulation    2360.000000\n",
      "Pulsar Timing                    2400.000000\n",
      "Pulsation Timing Variations         0.000000\n",
      "Radial Velocity                   203.200415\n",
      "Transit                          1198.596161\n",
      "Transit Timing Variations        2208.666667\n",
      "Name: distance, dtype: float64\n"
     ]
    }
   ],
   "source": [
    "# Using the previous example by filling null values by 0\n",
    "print(planets.groupby(\"method\")[\"distance\"].mean().apply(logic).fillna(0))"
   ]
  },
  {
   "cell_type": "code",
   "execution_count": 30,
   "id": "ff4b2c07-9c56-4462-b447-718f1075efb1",
   "metadata": {},
   "outputs": [
    {
     "name": "stdout",
     "output_type": "stream",
     "text": [
      "0       2000\n",
      "1       2000\n",
      "2       2010\n",
      "3       2000\n",
      "4       2000\n",
      "        ... \n",
      "1030    2000\n",
      "1031    2000\n",
      "1032    2000\n",
      "1033    2000\n",
      "1034    2000\n",
      "Name: year, Length: 1035, dtype: int64\n"
     ]
    }
   ],
   "source": [
    "decade = 10 * (planets['year'] // 10)\n",
    "print(decade)"
   ]
  },
  {
   "cell_type": "code",
   "execution_count": 76,
   "id": "e9420606-bb15-47f0-85ef-8782b043384c",
   "metadata": {},
   "outputs": [
    {
     "name": "stdout",
     "output_type": "stream",
     "text": [
      "0       2000s\n",
      "1       2000s\n",
      "2       2010s\n",
      "3       2000s\n",
      "4       2000s\n",
      "        ...  \n",
      "1030    2000s\n",
      "1031    2000s\n",
      "1032    2000s\n",
      "1033    2000s\n",
      "1034    2000s\n",
      "Name: year, Length: 1035, dtype: object\n"
     ]
    }
   ],
   "source": [
    "# decadeUnique = (planets['year'] // 10).unique() * 10\n",
    "decadeUnique = (planets['year'] // 10) * 10\n",
    "decadeUnique = decadeUnique.astype(str) + 's'\n",
    "print(decadeUnique)"
   ]
  },
  {
   "cell_type": "code",
   "execution_count": 90,
   "id": "c9b7920e-5c3e-41b7-94ad-a2114860c241",
   "metadata": {},
   "outputs": [],
   "source": [
    "# Displaying all methods by year (with their number summed up)\n",
    "planetsByMethodAndYear = planets.groupby([\"method\",decadeUnique])['number'].sum().unstack().fillna(0)"
   ]
  },
  {
   "cell_type": "code",
   "execution_count": 92,
   "id": "82a54ded-37f9-49b2-88cf-e1085aceebcf",
   "metadata": {},
   "outputs": [
    {
     "data": {
      "text/html": [
       "<div>\n",
       "<style scoped>\n",
       "    .dataframe tbody tr th:only-of-type {\n",
       "        vertical-align: middle;\n",
       "    }\n",
       "\n",
       "    .dataframe tbody tr th {\n",
       "        vertical-align: top;\n",
       "    }\n",
       "\n",
       "    .dataframe thead th {\n",
       "        text-align: right;\n",
       "    }\n",
       "</style>\n",
       "<table border=\"1\" class=\"dataframe\">\n",
       "  <thead>\n",
       "    <tr style=\"text-align: right;\">\n",
       "      <th>year</th>\n",
       "      <th>1980s</th>\n",
       "      <th>1990s</th>\n",
       "      <th>2000s</th>\n",
       "      <th>2010s</th>\n",
       "    </tr>\n",
       "    <tr>\n",
       "      <th>method</th>\n",
       "      <th></th>\n",
       "      <th></th>\n",
       "      <th></th>\n",
       "      <th></th>\n",
       "    </tr>\n",
       "  </thead>\n",
       "  <tbody>\n",
       "    <tr>\n",
       "      <th>Astrometry</th>\n",
       "      <td>0.0</td>\n",
       "      <td>0.0</td>\n",
       "      <td>0.0</td>\n",
       "      <td>2.0</td>\n",
       "    </tr>\n",
       "    <tr>\n",
       "      <th>Eclipse Timing Variations</th>\n",
       "      <td>0.0</td>\n",
       "      <td>0.0</td>\n",
       "      <td>5.0</td>\n",
       "      <td>10.0</td>\n",
       "    </tr>\n",
       "    <tr>\n",
       "      <th>Imaging</th>\n",
       "      <td>0.0</td>\n",
       "      <td>0.0</td>\n",
       "      <td>29.0</td>\n",
       "      <td>21.0</td>\n",
       "    </tr>\n",
       "    <tr>\n",
       "      <th>Microlensing</th>\n",
       "      <td>0.0</td>\n",
       "      <td>0.0</td>\n",
       "      <td>12.0</td>\n",
       "      <td>15.0</td>\n",
       "    </tr>\n",
       "    <tr>\n",
       "      <th>Orbital Brightness Modulation</th>\n",
       "      <td>0.0</td>\n",
       "      <td>0.0</td>\n",
       "      <td>0.0</td>\n",
       "      <td>5.0</td>\n",
       "    </tr>\n",
       "    <tr>\n",
       "      <th>Pulsar Timing</th>\n",
       "      <td>0.0</td>\n",
       "      <td>9.0</td>\n",
       "      <td>1.0</td>\n",
       "      <td>1.0</td>\n",
       "    </tr>\n",
       "    <tr>\n",
       "      <th>Pulsation Timing Variations</th>\n",
       "      <td>0.0</td>\n",
       "      <td>0.0</td>\n",
       "      <td>1.0</td>\n",
       "      <td>0.0</td>\n",
       "    </tr>\n",
       "    <tr>\n",
       "      <th>Radial Velocity</th>\n",
       "      <td>1.0</td>\n",
       "      <td>52.0</td>\n",
       "      <td>475.0</td>\n",
       "      <td>424.0</td>\n",
       "    </tr>\n",
       "    <tr>\n",
       "      <th>Transit</th>\n",
       "      <td>0.0</td>\n",
       "      <td>0.0</td>\n",
       "      <td>64.0</td>\n",
       "      <td>712.0</td>\n",
       "    </tr>\n",
       "    <tr>\n",
       "      <th>Transit Timing Variations</th>\n",
       "      <td>0.0</td>\n",
       "      <td>0.0</td>\n",
       "      <td>0.0</td>\n",
       "      <td>9.0</td>\n",
       "    </tr>\n",
       "  </tbody>\n",
       "</table>\n",
       "</div>"
      ],
      "text/plain": [
       "year                           1980s  1990s  2000s  2010s\n",
       "method                                                   \n",
       "Astrometry                       0.0    0.0    0.0    2.0\n",
       "Eclipse Timing Variations        0.0    0.0    5.0   10.0\n",
       "Imaging                          0.0    0.0   29.0   21.0\n",
       "Microlensing                     0.0    0.0   12.0   15.0\n",
       "Orbital Brightness Modulation    0.0    0.0    0.0    5.0\n",
       "Pulsar Timing                    0.0    9.0    1.0    1.0\n",
       "Pulsation Timing Variations      0.0    0.0    1.0    0.0\n",
       "Radial Velocity                  1.0   52.0  475.0  424.0\n",
       "Transit                          0.0    0.0   64.0  712.0\n",
       "Transit Timing Variations        0.0    0.0    0.0    9.0"
      ]
     },
     "execution_count": 92,
     "metadata": {},
     "output_type": "execute_result"
    }
   ],
   "source": [
    "planetsByMethodAndYear"
   ]
  },
  {
   "cell_type": "code",
   "execution_count": 94,
   "id": "87b021f0-5e22-40e3-8976-0fd9fa062757",
   "metadata": {},
   "outputs": [],
   "source": [
    "# Loading the titanic dataset\n",
    "titanic = sns.load_dataset('titanic')"
   ]
  },
  {
   "cell_type": "code",
   "execution_count": 96,
   "id": "9358e0c9-61d4-4031-9fd8-34d107f13e4b",
   "metadata": {},
   "outputs": [
    {
     "data": {
      "text/html": [
       "<div>\n",
       "<style scoped>\n",
       "    .dataframe tbody tr th:only-of-type {\n",
       "        vertical-align: middle;\n",
       "    }\n",
       "\n",
       "    .dataframe tbody tr th {\n",
       "        vertical-align: top;\n",
       "    }\n",
       "\n",
       "    .dataframe thead th {\n",
       "        text-align: right;\n",
       "    }\n",
       "</style>\n",
       "<table border=\"1\" class=\"dataframe\">\n",
       "  <thead>\n",
       "    <tr style=\"text-align: right;\">\n",
       "      <th></th>\n",
       "      <th>survived</th>\n",
       "      <th>pclass</th>\n",
       "      <th>sex</th>\n",
       "      <th>age</th>\n",
       "      <th>sibsp</th>\n",
       "      <th>parch</th>\n",
       "      <th>fare</th>\n",
       "      <th>embarked</th>\n",
       "      <th>class</th>\n",
       "      <th>who</th>\n",
       "      <th>adult_male</th>\n",
       "      <th>deck</th>\n",
       "      <th>embark_town</th>\n",
       "      <th>alive</th>\n",
       "      <th>alone</th>\n",
       "    </tr>\n",
       "  </thead>\n",
       "  <tbody>\n",
       "    <tr>\n",
       "      <th>0</th>\n",
       "      <td>0</td>\n",
       "      <td>3</td>\n",
       "      <td>male</td>\n",
       "      <td>22.0</td>\n",
       "      <td>1</td>\n",
       "      <td>0</td>\n",
       "      <td>7.2500</td>\n",
       "      <td>S</td>\n",
       "      <td>Third</td>\n",
       "      <td>man</td>\n",
       "      <td>True</td>\n",
       "      <td>NaN</td>\n",
       "      <td>Southampton</td>\n",
       "      <td>no</td>\n",
       "      <td>False</td>\n",
       "    </tr>\n",
       "    <tr>\n",
       "      <th>1</th>\n",
       "      <td>1</td>\n",
       "      <td>1</td>\n",
       "      <td>female</td>\n",
       "      <td>38.0</td>\n",
       "      <td>1</td>\n",
       "      <td>0</td>\n",
       "      <td>71.2833</td>\n",
       "      <td>C</td>\n",
       "      <td>First</td>\n",
       "      <td>woman</td>\n",
       "      <td>False</td>\n",
       "      <td>C</td>\n",
       "      <td>Cherbourg</td>\n",
       "      <td>yes</td>\n",
       "      <td>False</td>\n",
       "    </tr>\n",
       "    <tr>\n",
       "      <th>2</th>\n",
       "      <td>1</td>\n",
       "      <td>3</td>\n",
       "      <td>female</td>\n",
       "      <td>26.0</td>\n",
       "      <td>0</td>\n",
       "      <td>0</td>\n",
       "      <td>7.9250</td>\n",
       "      <td>S</td>\n",
       "      <td>Third</td>\n",
       "      <td>woman</td>\n",
       "      <td>False</td>\n",
       "      <td>NaN</td>\n",
       "      <td>Southampton</td>\n",
       "      <td>yes</td>\n",
       "      <td>True</td>\n",
       "    </tr>\n",
       "    <tr>\n",
       "      <th>3</th>\n",
       "      <td>1</td>\n",
       "      <td>1</td>\n",
       "      <td>female</td>\n",
       "      <td>35.0</td>\n",
       "      <td>1</td>\n",
       "      <td>0</td>\n",
       "      <td>53.1000</td>\n",
       "      <td>S</td>\n",
       "      <td>First</td>\n",
       "      <td>woman</td>\n",
       "      <td>False</td>\n",
       "      <td>C</td>\n",
       "      <td>Southampton</td>\n",
       "      <td>yes</td>\n",
       "      <td>False</td>\n",
       "    </tr>\n",
       "    <tr>\n",
       "      <th>4</th>\n",
       "      <td>0</td>\n",
       "      <td>3</td>\n",
       "      <td>male</td>\n",
       "      <td>35.0</td>\n",
       "      <td>0</td>\n",
       "      <td>0</td>\n",
       "      <td>8.0500</td>\n",
       "      <td>S</td>\n",
       "      <td>Third</td>\n",
       "      <td>man</td>\n",
       "      <td>True</td>\n",
       "      <td>NaN</td>\n",
       "      <td>Southampton</td>\n",
       "      <td>no</td>\n",
       "      <td>True</td>\n",
       "    </tr>\n",
       "  </tbody>\n",
       "</table>\n",
       "</div>"
      ],
      "text/plain": [
       "   survived  pclass     sex   age  sibsp  parch     fare embarked  class  \\\n",
       "0         0       3    male  22.0      1      0   7.2500        S  Third   \n",
       "1         1       1  female  38.0      1      0  71.2833        C  First   \n",
       "2         1       3  female  26.0      0      0   7.9250        S  Third   \n",
       "3         1       1  female  35.0      1      0  53.1000        S  First   \n",
       "4         0       3    male  35.0      0      0   8.0500        S  Third   \n",
       "\n",
       "     who  adult_male deck  embark_town alive  alone  \n",
       "0    man        True  NaN  Southampton    no  False  \n",
       "1  woman       False    C    Cherbourg   yes  False  \n",
       "2  woman       False  NaN  Southampton   yes   True  \n",
       "3  woman       False    C  Southampton   yes  False  \n",
       "4    man        True  NaN  Southampton    no   True  "
      ]
     },
     "execution_count": 96,
     "metadata": {},
     "output_type": "execute_result"
    }
   ],
   "source": [
    "titanic.head()"
   ]
  },
  {
   "cell_type": "code",
   "execution_count": 108,
   "id": "4d0904fd-f3d8-4b0f-8665-cce799cf1866",
   "metadata": {},
   "outputs": [
    {
     "name": "stdout",
     "output_type": "stream",
     "text": [
      "('female',      survived  pclass     sex   age  sibsp  parch     fare embarked   class  \\\n",
      "1           1       1  female  38.0      1      0  71.2833        C   First   \n",
      "2           1       3  female  26.0      0      0   7.9250        S   Third   \n",
      "3           1       1  female  35.0      1      0  53.1000        S   First   \n",
      "8           1       3  female  27.0      0      2  11.1333        S   Third   \n",
      "9           1       2  female  14.0      1      0  30.0708        C  Second   \n",
      "..        ...     ...     ...   ...    ...    ...      ...      ...     ...   \n",
      "880         1       2  female  25.0      0      1  26.0000        S  Second   \n",
      "882         0       3  female  22.0      0      0  10.5167        S   Third   \n",
      "885         0       3  female  39.0      0      5  29.1250        Q   Third   \n",
      "887         1       1  female  19.0      0      0  30.0000        S   First   \n",
      "888         0       3  female   NaN      1      2  23.4500        S   Third   \n",
      "\n",
      "       who  adult_male deck  embark_town alive  alone  \n",
      "1    woman       False    C    Cherbourg   yes  False  \n",
      "2    woman       False  NaN  Southampton   yes   True  \n",
      "3    woman       False    C  Southampton   yes  False  \n",
      "8    woman       False  NaN  Southampton   yes  False  \n",
      "9    child       False  NaN    Cherbourg   yes  False  \n",
      "..     ...         ...  ...          ...   ...    ...  \n",
      "880  woman       False  NaN  Southampton   yes  False  \n",
      "882  woman       False  NaN  Southampton    no   True  \n",
      "885  woman       False  NaN   Queenstown    no  False  \n",
      "887  woman       False    B  Southampton   yes   True  \n",
      "888  woman       False  NaN  Southampton    no  False  \n",
      "\n",
      "[314 rows x 15 columns])\n",
      "('male',      survived  pclass   sex   age  sibsp  parch     fare embarked   class  \\\n",
      "0           0       3  male  22.0      1      0   7.2500        S   Third   \n",
      "4           0       3  male  35.0      0      0   8.0500        S   Third   \n",
      "5           0       3  male   NaN      0      0   8.4583        Q   Third   \n",
      "6           0       1  male  54.0      0      0  51.8625        S   First   \n",
      "7           0       3  male   2.0      3      1  21.0750        S   Third   \n",
      "..        ...     ...   ...   ...    ...    ...      ...      ...     ...   \n",
      "883         0       2  male  28.0      0      0  10.5000        S  Second   \n",
      "884         0       3  male  25.0      0      0   7.0500        S   Third   \n",
      "886         0       2  male  27.0      0      0  13.0000        S  Second   \n",
      "889         1       1  male  26.0      0      0  30.0000        C   First   \n",
      "890         0       3  male  32.0      0      0   7.7500        Q   Third   \n",
      "\n",
      "       who  adult_male deck  embark_town alive  alone  \n",
      "0      man        True  NaN  Southampton    no  False  \n",
      "4      man        True  NaN  Southampton    no   True  \n",
      "5      man        True  NaN   Queenstown    no   True  \n",
      "6      man        True    E  Southampton    no   True  \n",
      "7    child       False  NaN  Southampton    no  False  \n",
      "..     ...         ...  ...          ...   ...    ...  \n",
      "883    man        True  NaN  Southampton    no   True  \n",
      "884    man        True  NaN  Southampton    no   True  \n",
      "886    man        True  NaN  Southampton    no   True  \n",
      "889    man        True    C    Cherbourg   yes   True  \n",
      "890    man        True  NaN   Queenstown    no   True  \n",
      "\n",
      "[577 rows x 15 columns])\n"
     ]
    },
    {
     "data": {
      "text/plain": [
       "[None, None]"
      ]
     },
     "execution_count": 108,
     "metadata": {},
     "output_type": "execute_result"
    }
   ],
   "source": [
    "[print(val) for val in titanic.groupby('sex')]"
   ]
  },
  {
   "cell_type": "code",
   "execution_count": 134,
   "id": "4e0a8f29-6e1c-48d1-8d0e-d7fc73e02c86",
   "metadata": {},
   "outputs": [
    {
     "data": {
      "text/html": [
       "<div>\n",
       "<style scoped>\n",
       "    .dataframe tbody tr th:only-of-type {\n",
       "        vertical-align: middle;\n",
       "    }\n",
       "\n",
       "    .dataframe tbody tr th {\n",
       "        vertical-align: top;\n",
       "    }\n",
       "\n",
       "    .dataframe thead th {\n",
       "        text-align: right;\n",
       "    }\n",
       "</style>\n",
       "<table border=\"1\" class=\"dataframe\">\n",
       "  <thead>\n",
       "    <tr style=\"text-align: right;\">\n",
       "      <th></th>\n",
       "      <th>survived</th>\n",
       "    </tr>\n",
       "    <tr>\n",
       "      <th>sex</th>\n",
       "      <th></th>\n",
       "    </tr>\n",
       "  </thead>\n",
       "  <tbody>\n",
       "    <tr>\n",
       "      <th>female</th>\n",
       "      <td>233</td>\n",
       "    </tr>\n",
       "    <tr>\n",
       "      <th>male</th>\n",
       "      <td>109</td>\n",
       "    </tr>\n",
       "  </tbody>\n",
       "</table>\n",
       "</div>"
      ],
      "text/plain": [
       "        survived\n",
       "sex             \n",
       "female       233\n",
       "male         109"
      ]
     },
     "execution_count": 134,
     "metadata": {},
     "output_type": "execute_result"
    }
   ],
   "source": [
    "# Getting the total no. of people by gender in the dataset\n",
    "titanic.groupby('sex')[['survived']].sum()"
   ]
  },
  {
   "cell_type": "code",
   "execution_count": 142,
   "id": "5e3d838b-26ba-443d-ab73-70cf1083381b",
   "metadata": {},
   "outputs": [
    {
     "name": "stderr",
     "output_type": "stream",
     "text": [
      "/var/folders/wd/v7wcs7rs2pndc5xkyyt016hw0000gn/T/ipykernel_1113/1946876174.py:3: FutureWarning: The default of observed=False is deprecated and will be changed to True in a future version of pandas. Pass observed=False to retain current behavior or observed=True to adopt the future default and silence this warning.\n",
      "  titanic.groupby(['sex', 'class'])[['survived']].sum().unstack()\n"
     ]
    },
    {
     "data": {
      "text/html": [
       "<div>\n",
       "<style scoped>\n",
       "    .dataframe tbody tr th:only-of-type {\n",
       "        vertical-align: middle;\n",
       "    }\n",
       "\n",
       "    .dataframe tbody tr th {\n",
       "        vertical-align: top;\n",
       "    }\n",
       "\n",
       "    .dataframe thead tr th {\n",
       "        text-align: left;\n",
       "    }\n",
       "\n",
       "    .dataframe thead tr:last-of-type th {\n",
       "        text-align: right;\n",
       "    }\n",
       "</style>\n",
       "<table border=\"1\" class=\"dataframe\">\n",
       "  <thead>\n",
       "    <tr>\n",
       "      <th></th>\n",
       "      <th colspan=\"3\" halign=\"left\">survived</th>\n",
       "    </tr>\n",
       "    <tr>\n",
       "      <th>class</th>\n",
       "      <th>First</th>\n",
       "      <th>Second</th>\n",
       "      <th>Third</th>\n",
       "    </tr>\n",
       "    <tr>\n",
       "      <th>sex</th>\n",
       "      <th></th>\n",
       "      <th></th>\n",
       "      <th></th>\n",
       "    </tr>\n",
       "  </thead>\n",
       "  <tbody>\n",
       "    <tr>\n",
       "      <th>female</th>\n",
       "      <td>91</td>\n",
       "      <td>70</td>\n",
       "      <td>72</td>\n",
       "    </tr>\n",
       "    <tr>\n",
       "      <th>male</th>\n",
       "      <td>45</td>\n",
       "      <td>17</td>\n",
       "      <td>47</td>\n",
       "    </tr>\n",
       "  </tbody>\n",
       "</table>\n",
       "</div>"
      ],
      "text/plain": [
       "       survived             \n",
       "class     First Second Third\n",
       "sex                         \n",
       "female       91     70    72\n",
       "male         45     17    47"
      ]
     },
     "execution_count": 142,
     "metadata": {},
     "output_type": "execute_result"
    }
   ],
   "source": [
    "# Getting the total no. of people by gender in the dataset; unstack allows the class to be displayed in columns\n",
    "# otherwise, it will be displayed on rows (stacked by default)\n",
    "titanic.groupby(['sex', 'class'])[['survived']].sum().unstack()"
   ]
  },
  {
   "cell_type": "code",
   "execution_count": 152,
   "id": "7edc45ed-e2ee-4d72-92d0-d54dccf3c464",
   "metadata": {},
   "outputs": [
    {
     "name": "stderr",
     "output_type": "stream",
     "text": [
      "/var/folders/wd/v7wcs7rs2pndc5xkyyt016hw0000gn/T/ipykernel_1113/3560869452.py:2: FutureWarning: The default value of observed=False is deprecated and will change to observed=True in a future version of pandas. Specify observed=False to silence this warning and retain the current behavior\n",
      "  titanic.pivot_table('survived', index='sex', columns='class', aggfunc='sum')\n"
     ]
    },
    {
     "data": {
      "text/html": [
       "<div>\n",
       "<style scoped>\n",
       "    .dataframe tbody tr th:only-of-type {\n",
       "        vertical-align: middle;\n",
       "    }\n",
       "\n",
       "    .dataframe tbody tr th {\n",
       "        vertical-align: top;\n",
       "    }\n",
       "\n",
       "    .dataframe thead th {\n",
       "        text-align: right;\n",
       "    }\n",
       "</style>\n",
       "<table border=\"1\" class=\"dataframe\">\n",
       "  <thead>\n",
       "    <tr style=\"text-align: right;\">\n",
       "      <th>class</th>\n",
       "      <th>First</th>\n",
       "      <th>Second</th>\n",
       "      <th>Third</th>\n",
       "    </tr>\n",
       "    <tr>\n",
       "      <th>sex</th>\n",
       "      <th></th>\n",
       "      <th></th>\n",
       "      <th></th>\n",
       "    </tr>\n",
       "  </thead>\n",
       "  <tbody>\n",
       "    <tr>\n",
       "      <th>female</th>\n",
       "      <td>91</td>\n",
       "      <td>70</td>\n",
       "      <td>72</td>\n",
       "    </tr>\n",
       "    <tr>\n",
       "      <th>male</th>\n",
       "      <td>45</td>\n",
       "      <td>17</td>\n",
       "      <td>47</td>\n",
       "    </tr>\n",
       "  </tbody>\n",
       "</table>\n",
       "</div>"
      ],
      "text/plain": [
       "class   First  Second  Third\n",
       "sex                         \n",
       "female     91      70     72\n",
       "male       45      17     47"
      ]
     },
     "execution_count": 152,
     "metadata": {},
     "output_type": "execute_result"
    }
   ],
   "source": [
    "# doing the same as above using the pivot_table function\n",
    "titanic.pivot_table('survived', index='sex', columns='class', aggfunc='sum')"
   ]
  },
  {
   "cell_type": "code",
   "execution_count": 176,
   "id": "7487e40a-8e6f-4527-9826-7cc6261f8f0f",
   "metadata": {},
   "outputs": [],
   "source": [
    "# listing the details by age group for gender, class and survived\n",
    "age_groups = pd.cut(titanic['age'],[0,20,40,70])"
   ]
  },
  {
   "cell_type": "code",
   "execution_count": 178,
   "id": "f1688839-c7a9-4381-98b3-3e5c2463fc4f",
   "metadata": {},
   "outputs": [
    {
     "name": "stderr",
     "output_type": "stream",
     "text": [
      "/var/folders/wd/v7wcs7rs2pndc5xkyyt016hw0000gn/T/ipykernel_1113/2407405952.py:1: FutureWarning: The default value of observed=False is deprecated and will change to observed=True in a future version of pandas. Specify observed=False to silence this warning and retain the current behavior\n",
      "  titanic.pivot_table('survived',['sex', age_groups], 'class', aggfunc='sum')\n"
     ]
    },
    {
     "data": {
      "text/html": [
       "<div>\n",
       "<style scoped>\n",
       "    .dataframe tbody tr th:only-of-type {\n",
       "        vertical-align: middle;\n",
       "    }\n",
       "\n",
       "    .dataframe tbody tr th {\n",
       "        vertical-align: top;\n",
       "    }\n",
       "\n",
       "    .dataframe thead th {\n",
       "        text-align: right;\n",
       "    }\n",
       "</style>\n",
       "<table border=\"1\" class=\"dataframe\">\n",
       "  <thead>\n",
       "    <tr style=\"text-align: right;\">\n",
       "      <th></th>\n",
       "      <th>class</th>\n",
       "      <th>First</th>\n",
       "      <th>Second</th>\n",
       "      <th>Third</th>\n",
       "    </tr>\n",
       "    <tr>\n",
       "      <th>sex</th>\n",
       "      <th>age</th>\n",
       "      <th></th>\n",
       "      <th></th>\n",
       "      <th></th>\n",
       "    </tr>\n",
       "  </thead>\n",
       "  <tbody>\n",
       "    <tr>\n",
       "      <th rowspan=\"3\" valign=\"top\">female</th>\n",
       "      <th>(0, 20]</th>\n",
       "      <td>13</td>\n",
       "      <td>16</td>\n",
       "      <td>24</td>\n",
       "    </tr>\n",
       "    <tr>\n",
       "      <th>(20, 40]</th>\n",
       "      <td>44</td>\n",
       "      <td>41</td>\n",
       "      <td>22</td>\n",
       "    </tr>\n",
       "    <tr>\n",
       "      <th>(40, 70]</th>\n",
       "      <td>25</td>\n",
       "      <td>11</td>\n",
       "      <td>1</td>\n",
       "    </tr>\n",
       "    <tr>\n",
       "      <th rowspan=\"3\" valign=\"top\">male</th>\n",
       "      <th>(0, 20]</th>\n",
       "      <td>4</td>\n",
       "      <td>10</td>\n",
       "      <td>15</td>\n",
       "    </tr>\n",
       "    <tr>\n",
       "      <th>(20, 40]</th>\n",
       "      <td>22</td>\n",
       "      <td>3</td>\n",
       "      <td>21</td>\n",
       "    </tr>\n",
       "    <tr>\n",
       "      <th>(40, 70]</th>\n",
       "      <td>13</td>\n",
       "      <td>2</td>\n",
       "      <td>2</td>\n",
       "    </tr>\n",
       "  </tbody>\n",
       "</table>\n",
       "</div>"
      ],
      "text/plain": [
       "class            First  Second  Third\n",
       "sex    age                           \n",
       "female (0, 20]      13      16     24\n",
       "       (20, 40]     44      41     22\n",
       "       (40, 70]     25      11      1\n",
       "male   (0, 20]       4      10     15\n",
       "       (20, 40]     22       3     21\n",
       "       (40, 70]     13       2      2"
      ]
     },
     "execution_count": 178,
     "metadata": {},
     "output_type": "execute_result"
    }
   ],
   "source": [
    "titanic.pivot_table('survived',['sex', age_groups], 'class', aggfunc='sum')"
   ]
  },
  {
   "cell_type": "code",
   "execution_count": 180,
   "id": "e78841e3-506c-4c9a-bed5-29c0f656e65d",
   "metadata": {},
   "outputs": [
    {
     "data": {
      "text/html": [
       "<div>\n",
       "<style scoped>\n",
       "    .dataframe tbody tr th:only-of-type {\n",
       "        vertical-align: middle;\n",
       "    }\n",
       "\n",
       "    .dataframe tbody tr th {\n",
       "        vertical-align: top;\n",
       "    }\n",
       "\n",
       "    .dataframe thead th {\n",
       "        text-align: right;\n",
       "    }\n",
       "</style>\n",
       "<table border=\"1\" class=\"dataframe\">\n",
       "  <thead>\n",
       "    <tr style=\"text-align: right;\">\n",
       "      <th></th>\n",
       "      <th>year</th>\n",
       "      <th>month</th>\n",
       "      <th>day</th>\n",
       "      <th>gender</th>\n",
       "      <th>births</th>\n",
       "    </tr>\n",
       "  </thead>\n",
       "  <tbody>\n",
       "    <tr>\n",
       "      <th>0</th>\n",
       "      <td>1969</td>\n",
       "      <td>1</td>\n",
       "      <td>1.0</td>\n",
       "      <td>F</td>\n",
       "      <td>4046</td>\n",
       "    </tr>\n",
       "    <tr>\n",
       "      <th>1</th>\n",
       "      <td>1969</td>\n",
       "      <td>1</td>\n",
       "      <td>1.0</td>\n",
       "      <td>M</td>\n",
       "      <td>4440</td>\n",
       "    </tr>\n",
       "    <tr>\n",
       "      <th>2</th>\n",
       "      <td>1969</td>\n",
       "      <td>1</td>\n",
       "      <td>2.0</td>\n",
       "      <td>F</td>\n",
       "      <td>4454</td>\n",
       "    </tr>\n",
       "    <tr>\n",
       "      <th>3</th>\n",
       "      <td>1969</td>\n",
       "      <td>1</td>\n",
       "      <td>2.0</td>\n",
       "      <td>M</td>\n",
       "      <td>4548</td>\n",
       "    </tr>\n",
       "    <tr>\n",
       "      <th>4</th>\n",
       "      <td>1969</td>\n",
       "      <td>1</td>\n",
       "      <td>3.0</td>\n",
       "      <td>F</td>\n",
       "      <td>4548</td>\n",
       "    </tr>\n",
       "  </tbody>\n",
       "</table>\n",
       "</div>"
      ],
      "text/plain": [
       "   year  month  day gender  births\n",
       "0  1969      1  1.0      F    4046\n",
       "1  1969      1  1.0      M    4440\n",
       "2  1969      1  2.0      F    4454\n",
       "3  1969      1  2.0      M    4548\n",
       "4  1969      1  3.0      F    4548"
      ]
     },
     "execution_count": 180,
     "metadata": {},
     "output_type": "execute_result"
    }
   ],
   "source": [
    "births = pd.read_csv(\"births.csv\")\n",
    "births.head()"
   ]
  },
  {
   "cell_type": "code",
   "execution_count": 194,
   "id": "c0ede56f-45a0-41ed-9303-87cfab6eaa4b",
   "metadata": {},
   "outputs": [
    {
     "data": {
      "text/plain": [
       "gender\n",
       "F    74035823\n",
       "M    77738555\n",
       "Name: births, dtype: int64"
      ]
     },
     "execution_count": 194,
     "metadata": {},
     "output_type": "execute_result"
    }
   ],
   "source": [
    "# displaying the number of births per gender\n",
    "births.groupby(\"gender\")[\"births\"].sum()"
   ]
  },
  {
   "cell_type": "code",
   "execution_count": 196,
   "id": "c2df91b5-ca2f-4a9c-b8c8-6c8f93893b63",
   "metadata": {},
   "outputs": [
    {
     "data": {
      "text/plain": [
       "gender  year\n",
       "F       1969    1753634\n",
       "        1970    1819164\n",
       "        1971    1736774\n",
       "        1972    1592347\n",
       "        1973    1533102\n",
       "                 ...   \n",
       "M       2004    2108197\n",
       "        2005    2122727\n",
       "        2006    2188268\n",
       "        2007    2212118\n",
       "        2008    2177227\n",
       "Name: births, Length: 80, dtype: int64"
      ]
     },
     "execution_count": 196,
     "metadata": {},
     "output_type": "execute_result"
    }
   ],
   "source": [
    "# displaying the number of births per gender per year \n",
    "births.groupby([\"gender\", \"year\"])[\"births\"].sum()"
   ]
  },
  {
   "cell_type": "code",
   "execution_count": 210,
   "id": "1dca7e9f-cb8d-4122-9078-d1d08581d131",
   "metadata": {},
   "outputs": [],
   "source": [
    "year = 10 * (births[\"year\"] // 10)"
   ]
  },
  {
   "cell_type": "code",
   "execution_count": 212,
   "id": "7a23dd28-e75d-4d9d-b385-75364c6f736d",
   "metadata": {},
   "outputs": [
    {
     "data": {
      "text/plain": [
       "0        1960\n",
       "1        1960\n",
       "2        1960\n",
       "3        1960\n",
       "4        1960\n",
       "         ... \n",
       "15542    2000\n",
       "15543    2000\n",
       "15544    2000\n",
       "15545    2000\n",
       "15546    2000\n",
       "Name: year, Length: 15547, dtype: int64"
      ]
     },
     "execution_count": 212,
     "metadata": {},
     "output_type": "execute_result"
    }
   ],
   "source": [
    "year"
   ]
  },
  {
   "cell_type": "code",
   "execution_count": 218,
   "id": "efec2341-e356-4727-9b8f-bec0c3ca0d7d",
   "metadata": {},
   "outputs": [
    {
     "data": {
      "text/html": [
       "<div>\n",
       "<style scoped>\n",
       "    .dataframe tbody tr th:only-of-type {\n",
       "        vertical-align: middle;\n",
       "    }\n",
       "\n",
       "    .dataframe tbody tr th {\n",
       "        vertical-align: top;\n",
       "    }\n",
       "\n",
       "    .dataframe thead th {\n",
       "        text-align: right;\n",
       "    }\n",
       "</style>\n",
       "<table border=\"1\" class=\"dataframe\">\n",
       "  <thead>\n",
       "    <tr style=\"text-align: right;\">\n",
       "      <th>year</th>\n",
       "      <th>1960</th>\n",
       "      <th>1970</th>\n",
       "      <th>1980</th>\n",
       "      <th>1990</th>\n",
       "      <th>2000</th>\n",
       "    </tr>\n",
       "    <tr>\n",
       "      <th>gender</th>\n",
       "      <th></th>\n",
       "      <th></th>\n",
       "      <th></th>\n",
       "      <th></th>\n",
       "      <th></th>\n",
       "    </tr>\n",
       "  </thead>\n",
       "  <tbody>\n",
       "    <tr>\n",
       "      <th>F</th>\n",
       "      <td>1753634</td>\n",
       "      <td>16263075</td>\n",
       "      <td>18310351</td>\n",
       "      <td>19479454</td>\n",
       "      <td>18229309</td>\n",
       "    </tr>\n",
       "    <tr>\n",
       "      <th>M</th>\n",
       "      <td>1846572</td>\n",
       "      <td>17121550</td>\n",
       "      <td>19243452</td>\n",
       "      <td>20420553</td>\n",
       "      <td>19106428</td>\n",
       "    </tr>\n",
       "  </tbody>\n",
       "</table>\n",
       "</div>"
      ],
      "text/plain": [
       "year       1960      1970      1980      1990      2000\n",
       "gender                                                 \n",
       "F       1753634  16263075  18310351  19479454  18229309\n",
       "M       1846572  17121550  19243452  20420553  19106428"
      ]
     },
     "execution_count": 218,
     "metadata": {},
     "output_type": "execute_result"
    }
   ],
   "source": [
    "# displaying the number of births per gender per decade \n",
    "births.groupby([\"gender\", year])[\"births\"].sum().unstack()"
   ]
  },
  {
   "cell_type": "code",
   "execution_count": 222,
   "id": "e19480fc-e257-4655-9ebf-f32ddb9c8775",
   "metadata": {},
   "outputs": [
    {
     "data": {
      "text/html": [
       "<div>\n",
       "<style scoped>\n",
       "    .dataframe tbody tr th:only-of-type {\n",
       "        vertical-align: middle;\n",
       "    }\n",
       "\n",
       "    .dataframe tbody tr th {\n",
       "        vertical-align: top;\n",
       "    }\n",
       "\n",
       "    .dataframe thead th {\n",
       "        text-align: right;\n",
       "    }\n",
       "</style>\n",
       "<table border=\"1\" class=\"dataframe\">\n",
       "  <thead>\n",
       "    <tr style=\"text-align: right;\">\n",
       "      <th>year</th>\n",
       "      <th>1960</th>\n",
       "      <th>1970</th>\n",
       "      <th>1980</th>\n",
       "      <th>1990</th>\n",
       "      <th>2000</th>\n",
       "    </tr>\n",
       "    <tr>\n",
       "      <th>gender</th>\n",
       "      <th></th>\n",
       "      <th></th>\n",
       "      <th></th>\n",
       "      <th></th>\n",
       "      <th></th>\n",
       "    </tr>\n",
       "  </thead>\n",
       "  <tbody>\n",
       "    <tr>\n",
       "      <th>F</th>\n",
       "      <td>1753634</td>\n",
       "      <td>16263075</td>\n",
       "      <td>18310351</td>\n",
       "      <td>19479454</td>\n",
       "      <td>18229309</td>\n",
       "    </tr>\n",
       "    <tr>\n",
       "      <th>M</th>\n",
       "      <td>1846572</td>\n",
       "      <td>17121550</td>\n",
       "      <td>19243452</td>\n",
       "      <td>20420553</td>\n",
       "      <td>19106428</td>\n",
       "    </tr>\n",
       "  </tbody>\n",
       "</table>\n",
       "</div>"
      ],
      "text/plain": [
       "year       1960      1970      1980      1990      2000\n",
       "gender                                                 \n",
       "F       1753634  16263075  18310351  19479454  18229309\n",
       "M       1846572  17121550  19243452  20420553  19106428"
      ]
     },
     "execution_count": 222,
     "metadata": {},
     "output_type": "execute_result"
    }
   ],
   "source": [
    "# displaying the number of births per gender per decade  using pivot_table\n",
    "births.pivot_table(\"births\", index=\"gender\", columns=year, aggfunc='sum')"
   ]
  },
  {
   "cell_type": "code",
   "execution_count": 230,
   "id": "f782e9eb-7527-476b-ad5d-d84c073759ee",
   "metadata": {},
   "outputs": [
    {
     "data": {
      "image/png": "[encoded data removed]",
      "text/plain": [
       "<Figure size 640x480 with 1 Axes>"
      ]
     },
     "metadata": {},
     "output_type": "display_data"
    }
   ],
   "source": [
    "sns.set() # use Seaborn styles\n",
    "births.pivot_table('births', index='year', columns='gender', aggfunc='sum').plot()\n",
    "plt.ylabel('total births per year');"
   ]
  },
  {
   "cell_type": "code",
   "execution_count": 26,
   "id": "969433d6-1efe-40dd-8c51-5625b6ccb402",
   "metadata": {},
   "outputs": [
    {
     "data": {
      "text/plain": [
       "array(['ackbar', 'amar', None, 'anthony'], dtype=object)"
      ]
     },
     "execution_count": 26,
     "metadata": {},
     "output_type": "execute_result"
    }
   ],
   "source": [
    "# Perfoming vectorise operations in python using pandas\n",
    "\n",
    "str = np.array(['ackbar','amar',None,'anthony'])\n",
    "str"
   ]
  },
  {
   "cell_type": "code",
   "execution_count": 28,
   "id": "d71bcc07-aa60-439b-b3cc-138d51b84479",
   "metadata": {},
   "outputs": [
    {
     "ename": "AttributeError",
     "evalue": "'NoneType' object has no attribute 'capitalize'",
     "output_type": "error",
     "traceback": [
      "\u001b[0;31m---------------------------------------------------------------------------\u001b[0m",
      "\u001b[0;31mAttributeError\u001b[0m                            Traceback (most recent call last)",
      "Cell \u001b[0;32mIn[28], line 1\u001b[0m\n\u001b[0;32m----> 1\u001b[0m strCaps \u001b[38;5;241m=\u001b[39m [s\u001b[38;5;241m.\u001b[39mcapitalize() \u001b[38;5;28;01mfor\u001b[39;00m s \u001b[38;5;129;01min\u001b[39;00m \u001b[38;5;28mstr\u001b[39m]\n",
      "\u001b[0;31mAttributeError\u001b[0m: 'NoneType' object has no attribute 'capitalize'"
     ]
    }
   ],
   "source": [
    "strCaps = [s.capitalize() for s in str]  # does not work as we have None value"
   ]
  },
  {
   "cell_type": "code",
   "execution_count": 45,
   "id": "86f9b5e8-8363-4f7e-bd11-d8b66e604f3f",
   "metadata": {},
   "outputs": [],
   "source": [
    "str_pd = pd.Series(['ackbar','amar',None,'anthony'])"
   ]
  },
  {
   "cell_type": "code",
   "execution_count": 53,
   "id": "cf51757e-4b47-42e8-8356-e688751414f3",
   "metadata": {},
   "outputs": [
    {
     "data": {
      "text/plain": [
       "0     Ackbar\n",
       "1       Amar\n",
       "2       None\n",
       "3    Anthony\n",
       "dtype: object"
      ]
     },
     "execution_count": 53,
     "metadata": {},
     "output_type": "execute_result"
    }
   ],
   "source": [
    "str_pd.str.capitalize()"
   ]
  },
  {
   "cell_type": "code",
   "execution_count": 61,
   "id": "7c0f5703-7776-44d0-9f0f-d18c13348f34",
   "metadata": {},
   "outputs": [
    {
     "data": {
      "text/plain": [
       "0    6.0\n",
       "1    4.0\n",
       "2    NaN\n",
       "3    7.0\n",
       "dtype: float64"
      ]
     },
     "execution_count": 61,
     "metadata": {},
     "output_type": "execute_result"
    }
   ],
   "source": [
    "# display the number of characters in each string\n",
    "str_pd.str.len()"
   ]
  },
  {
   "cell_type": "code",
   "execution_count": 79,
   "id": "6c8ef723-f3de-4ab4-b998-efaaccc07761",
   "metadata": {},
   "outputs": [
    {
     "data": {
      "text/plain": [
       "['ackbar', 'amar', None, 'anthony']"
      ]
     },
     "execution_count": 79,
     "metadata": {},
     "output_type": "execute_result"
    }
   ],
   "source": [
    "[s for s in str_pd]"
   ]
  },
  {
   "cell_type": "code",
   "execution_count": 81,
   "id": "b57e5eff-5407-478f-8866-e00781a66176",
   "metadata": {},
   "outputs": [],
   "source": [
    "monte = pd.Series(['Graham Chapman', 'John Cleese', 'Terry Gilliam',\n",
    "                              'Eric Idle', 'Terry Jones', 'Michael Palin'])"
   ]
  },
  {
   "cell_type": "code",
   "execution_count": 83,
   "id": "1febb638-7731-49ac-a47c-14b6dd5a0738",
   "metadata": {},
   "outputs": [
    {
     "data": {
      "text/plain": [
       "['Graham Chapman',\n",
       " 'John Cleese',\n",
       " 'Terry Gilliam',\n",
       " 'Eric Idle',\n",
       " 'Terry Jones',\n",
       " 'Michael Palin']"
      ]
     },
     "execution_count": 83,
     "metadata": {},
     "output_type": "execute_result"
    }
   ],
   "source": [
    "[s for s in monte]"
   ]
  },
  {
   "cell_type": "code",
   "execution_count": 87,
   "id": "a36b2545-26ba-43ca-a88e-9d89f5243c8f",
   "metadata": {},
   "outputs": [
    {
     "data": {
      "text/plain": [
       "[['Graham', 'Chapman'],\n",
       " ['John', 'Cleese'],\n",
       " ['Terry', 'Gilliam'],\n",
       " ['Eric', 'Idle'],\n",
       " ['Terry', 'Jones'],\n",
       " ['Michael', 'Palin']]"
      ]
     },
     "execution_count": 87,
     "metadata": {},
     "output_type": "execute_result"
    }
   ],
   "source": [
    "[s.split(\" \") for s in monte]"
   ]
  },
  {
   "cell_type": "code",
   "execution_count": 91,
   "id": "1dac7817-eaaa-403e-b719-8a291bcc1e76",
   "metadata": {},
   "outputs": [
    {
     "data": {
      "text/plain": [
       "['Graham', 'John', 'Terry', 'Eric', 'Terry', 'Michael']"
      ]
     },
     "execution_count": 91,
     "metadata": {},
     "output_type": "execute_result"
    }
   ],
   "source": [
    "[s.split(\" \")[0] for s in monte]"
   ]
  },
  {
   "cell_type": "code",
   "execution_count": 115,
   "id": "7c160040-3525-4801-868d-805f7201a83d",
   "metadata": {},
   "outputs": [
    {
     "name": "stdout",
     "output_type": "stream",
     "text": [
      "   Chapman:  6 characters\n",
      "    Cleese:  4 characters\n",
      "   Gilliam:  5 characters\n",
      "      Idle:  4 characters\n",
      "     Jones:  5 characters\n",
      "     Palin:  7 characters\n"
     ]
    },
    {
     "data": {
      "text/plain": [
       "[None, None, None, None, None, None]"
      ]
     },
     "execution_count": 115,
     "metadata": {},
     "output_type": "execute_result"
    }
   ],
   "source": [
    "# Printing the number of characters in each last word of each entry\n",
    "[print(f\"{s.split(\" \")[-1] :>10}:  {len(s.split(\" \")[0])} characters\") for s in monte]"
   ]
  },
  {
   "cell_type": "code",
   "execution_count": null,
   "id": "7596ed5d-ce1e-426f-875d-d23b13e0ee6b",
   "metadata": {},
   "outputs": [],
   "source": []
  },
  {
   "cell_type": "code",
   "execution_count": null,
   "id": "25ee74c1-5ad5-4af0-ac6d-4fbacd045cef",
   "metadata": {},
   "outputs": [],
   "source": []
  }
 ],
 "metadata": {
  "kernelspec": {
   "display_name": "Python 3 (ipykernel)",
   "language": "python",
   "name": "python3"
  },
  "language_info": {
   "codemirror_mode": {
    "name": "ipython",
    "version": 3
   },
   "file_extension": ".py",
   "mimetype": "text/x-python",
   "name": "python",
   "nbconvert_exporter": "python",
   "pygments_lexer": "ipython3",
   "version": "3.12.2"
  }
 },
 "nbformat": 4,
 "nbformat_minor": 5
}
